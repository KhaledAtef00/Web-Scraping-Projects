{
 "cells": [
  {
   "cell_type": "code",
   "execution_count": 1,
   "id": "fb7e9d2a",
   "metadata": {},
   "outputs": [],
   "source": [
    "from bs4 import BeautifulSoup\n",
    "import requests\n",
    "import unicodedata\n",
    "from bs4 import BeautifulSoup\n",
    "import requests\n",
    "import pandas as pd"
   ]
  },
  {
   "cell_type": "markdown",
   "id": "b0144dd7",
   "metadata": {},
   "source": [
    "# Trying to Scrap One Mail"
   ]
  },
  {
   "cell_type": "code",
   "execution_count": 2,
   "id": "8dbc211b",
   "metadata": {},
   "outputs": [],
   "source": [
    "url = 'https://politicalemails.org/messages/1011976'\n",
    "response = requests.get(url)\n",
    "soup = BeautifulSoup(response.content, 'lxml')"
   ]
  },
  {
   "cell_type": "code",
   "execution_count": 3,
   "id": "3d0fe325",
   "metadata": {},
   "outputs": [],
   "source": [
    "def clean(s, z):\n",
    "    s = s.replace('\\n' ,'')\n",
    "    s = s.replace('\\t' ,'')\n",
    "    if(z==1): # Cleaning Country & Political_Party\n",
    "        s = s.split(\":\")\n",
    "        return s[-1]\n",
    "    elif(z==2):\n",
    "        s = s.split(\"<\")\n",
    "        return s[0]\n",
    "    else :\n",
    "        return s"
   ]
  },
  {
   "cell_type": "code",
   "execution_count": 4,
   "id": "2f98b020",
   "metadata": {},
   "outputs": [
    {
     "name": "stdout",
     "output_type": "stream",
     "text": [
      "n/a  -  n/a   n/a\n"
     ]
    }
   ],
   "source": [
    "info_box =soup.find( class_='connections-box')\n",
    "elements = info_box.find('ul').find_all('li')\n",
    "\n",
    "org_name = elements[0].get_text()\n",
    "Political_Party = elements[1].get_text()\n",
    "Country = elements[2].get_text()\n",
    "\n",
    "org_name = clean(org_name,1)\n",
    "Political_Party = clean(Political_Party,1)\n",
    "Country = clean(Country,1)\n",
    "\n",
    "print(Country , \" - \" ,org_name , \" \", Political_Party)"
   ]
  },
  {
   "cell_type": "code",
   "execution_count": 5,
   "id": "4af07c1f",
   "metadata": {},
   "outputs": [
    {
     "data": {
      "text/plain": [
       "'Vote: Should repeat criminal offenders face harsher punishment?'"
      ]
     },
     "execution_count": 5,
     "metadata": {},
     "output_type": "execute_result"
    }
   ],
   "source": [
    "title = soup.find(class_='page-title').get_text()\n",
    "title = clean(title,0)\n",
    "title"
   ]
  },
  {
   "cell_type": "code",
   "execution_count": 6,
   "id": "6070a6af",
   "metadata": {},
   "outputs": [],
   "source": [
    "upper_info = soup.find_all(class_='content-box-meta__value')"
   ]
  },
  {
   "cell_type": "code",
   "execution_count": 7,
   "id": "4fb1b9c9",
   "metadata": {},
   "outputs": [
    {
     "data": {
      "text/plain": [
       "'The American Voter '"
      ]
     },
     "execution_count": 7,
     "metadata": {},
     "output_type": "execute_result"
    }
   ],
   "source": [
    "from_text = clean(upper_info[0].text,2)\n",
    "from_text"
   ]
  },
  {
   "cell_type": "code",
   "execution_count": 8,
   "id": "d460a153",
   "metadata": {},
   "outputs": [],
   "source": [
    "def decodeEmail(e):\n",
    "    de = \"\"\n",
    "    k = int(e[:2], 16)\n",
    "\n",
    "    for i in range(2, len(e)-1, 2):\n",
    "        de += chr(int(e[i:i+2], 16)^k)\n",
    "\n",
    "    return de"
   ]
  },
  {
   "cell_type": "code",
   "execution_count": 9,
   "id": "99c990d3",
   "metadata": {},
   "outputs": [
    {
     "name": "stdout",
     "output_type": "stream",
     "text": [
      "polls@theamericanvoter.com\n"
     ]
    }
   ],
   "source": [
    "# Getting the org website\n",
    "org_site = upper_info[0].a.span['data-cfemail']\n",
    "org_site = decodeEmail(org_site)\n",
    "\n",
    "print(org_site)"
   ]
  },
  {
   "cell_type": "code",
   "execution_count": 10,
   "id": "2a58da94",
   "metadata": {},
   "outputs": [
    {
     "name": "stdout",
     "output_type": "stream",
     "text": [
      "Vote: Should repeat criminal offenders face harsher punishment?\n"
     ]
    }
   ],
   "source": [
    "subject =upper_info[1].text.strip()\n",
    "print(subject)"
   ]
  },
  {
   "cell_type": "code",
   "execution_count": 11,
   "id": "0684e0bd",
   "metadata": {},
   "outputs": [
    {
     "data": {
      "text/plain": [
       "'April 10, 2023 3:36 AM'"
      ]
     },
     "execution_count": 11,
     "metadata": {},
     "output_type": "execute_result"
    }
   ],
   "source": [
    "send_date = clean(upper_info[2].text,2)\n",
    "send_date"
   ]
  },
  {
   "cell_type": "code",
   "execution_count": 12,
   "id": "9542eed9",
   "metadata": {},
   "outputs": [],
   "source": [
    "def get_html_body_code(url):\n",
    "    url = url+('/html_body')\n",
    "    r1 = requests.get(url)\n",
    "    s = BeautifulSoup(r1.content, 'lxml')\n",
    "    body_tag = s.find('body')\n",
    "\n",
    "    return body_tag\n"
   ]
  },
  {
   "cell_type": "code",
   "execution_count": 13,
   "id": "ded964fc",
   "metadata": {},
   "outputs": [],
   "source": [
    "html_body_code = get_html_body_code(url)"
   ]
  },
  {
   "cell_type": "code",
   "execution_count": 14,
   "id": "cb1dc5fe",
   "metadata": {},
   "outputs": [],
   "source": [
    "def get_plain_text(url):\n",
    "    \n",
    "    r2 = requests.get(url+'#plain-text')\n",
    "    s = BeautifulSoup(r2.content)\n",
    "    \n",
    "    plain_text  = s.find(class_='message-text').text\n",
    "    plain_text = unicodedata.normalize('NFKD', plain_text)\n",
    "    encoded_text = plain_text.encode('utf-8')    \n",
    "    decoded_text = encoded_text.decode('utf-8')\n",
    "\n",
    "    cleaned_text = unicodedata.normalize('NFKD', decoded_text)\n",
    "\n",
    "    cleaned_text = ''.join(c for c in cleaned_text if unicodedata.category(c)[0] != 'C')\n",
    "\n",
    "\n",
    "    return cleaned_text\n"
   ]
  },
  {
   "cell_type": "code",
   "execution_count": 15,
   "id": "3583143c",
   "metadata": {},
   "outputs": [],
   "source": [
    "plain_text = get_plain_text(url)"
   ]
  },
  {
   "cell_type": "code",
   "execution_count": 16,
   "id": "b0663924",
   "metadata": {},
   "outputs": [],
   "source": [
    "message = {}\n",
    "message['Country'] = Country\n",
    "message['Political Party']=Political_Party\n",
    "message['Organization Name'] = org_name\n",
    "message['Organization website'] = org_site\n",
    "message['From'] = from_text\n",
    "message['Subject Line']=subject\n",
    "message['Send Date'] = send_date\n",
    "message['HTML'] = html_body_code\n",
    "message['Plain Text'] = plain_text"
   ]
  },
  {
   "cell_type": "code",
   "execution_count": 17,
   "id": "30d442c7",
   "metadata": {},
   "outputs": [
    {
     "data": {
      "text/plain": [
       "{'Country': 'n/a',\n",
       " 'Political Party': 'n/a',\n",
       " 'Organization Name': 'n/a',\n",
       " 'Organization website': 'polls@theamericanvoter.com',\n",
       " 'From': 'The American Voter ',\n",
       " 'Subject Line': 'Vote: Should repeat criminal offenders face harsher punishment?',\n",
       " 'Send Date': 'April 10, 2023 3:36 AM',\n",
       " 'HTML': <body style=\"background-color: #FFFFFF; margin: 0; padding: 0; -webkit-text-size-adjust: none; text-size-adjust: none;\"> <div style=\"display: none !important; padding: 0; height: 1px; font-size: 1px; background-color: inherit !important; opacity: 0; color: transparent; mso-line-height-rule: exactly; line-height:1px; mso-hide:all;\">\n",
       " \t\t\tYour vote counts!\n",
       " \t\t\t<div style=\"display: none; max-height: 0px; overflow: hidden;\">\n",
       " \t\t\t\t ‌ ‌ ‌ ‌ ‌ ‌ ‌ ‌ ‌ ‌ ‌ ‌ ‌ ‌ ‌ ‌ ‌ ‌ ‌ ‌ ‌ ‌ ‌ ‌ ‌ ‌ ‌ ‌ ‌ ‌ ‌ ‌ ‌ ‌ ‌ ‌ ‌ ‌ ‌ ‌ ‌ ‌ ‌ ‌ ‌ ‌ ‌ ‌ ‌ ‌ ‌ ‌ ‌ ‌ ‌ ‌ ‌ ‌ ‌ ‌ ‌ ‌ ‌ ‌ ‌ ‌ ‌ ‌ ‌ ‌ ‌ ‌ ‌ ‌ ‌ ‌ ‌ ‌ ‌ ‌ ‌ ‌ ‌ ‌ ‌ ‌ ‌ ‌ ‌ ‌ ‌ ‌ ‌ ‌ ‌ ‌ ‌ ‌ ‌ ‌ ‌ ‌ ‌ ‌ ‌ ‌ ‌ ‌ ‌ ‌ ‌ ‌ ‌ ‌ ‌ ‌ ‌ ‌ ‌ ‌ ‌ ‌ ‌ ‌ ‌ ‌\n",
       " \t\t\t</div>\n",
       " </div>\n",
       " <table border=\"0\" cellpadding=\"0\" cellspacing=\"0\" class=\"nl-container\" role=\"presentation\" style=\"mso-table-lspace: 0pt; mso-table-rspace: 0pt; background-color: #FFFFFF;\" width=\"100%\">\n",
       " <tr>\n",
       " <td>\n",
       " <table align=\"center\" border=\"0\" cellpadding=\"0\" cellspacing=\"0\" class=\"row row-1\" role=\"presentation\" style=\"mso-table-lspace: 0pt; mso-table-rspace: 0pt;\" width=\"100%\">\n",
       " <tr>\n",
       " <td>\n",
       " <table align=\"center\" border=\"0\" cellpadding=\"0\" cellspacing=\"0\" class=\"row-content stack\" role=\"presentation\" style=\"mso-table-lspace: 0pt; mso-table-rspace: 0pt; border-radius: 0; color: #000000; width: 480px;\" width=\"480\">\n",
       " <tr>\n",
       " <td class=\"column column-1\" style=\"mso-table-lspace: 0pt; mso-table-rspace: 0pt; font-weight: 400; text-align: left; padding-bottom: 5px; padding-top: 5px; vertical-align: top; border-top: 0px; border-right: 0px; border-bottom: 0px; border-left: 0px;\" width=\"100%\">\n",
       " <div class=\"spacer_block block-1\" style=\"height:15px;line-height:15px;font-size:1px;\"> </div>\n",
       " </td>\n",
       " </tr>\n",
       " </table>\n",
       " </td>\n",
       " </tr>\n",
       " </table>\n",
       " <table align=\"center\" border=\"0\" cellpadding=\"0\" cellspacing=\"0\" class=\"row row-2\" role=\"presentation\" style=\"mso-table-lspace: 0pt; mso-table-rspace: 0pt;\" width=\"100%\">\n",
       " <tr>\n",
       " <td>\n",
       " <table align=\"center\" border=\"0\" cellpadding=\"0\" cellspacing=\"0\" class=\"row-content stack\" role=\"presentation\" style=\"mso-table-lspace: 0pt; mso-table-rspace: 0pt; background-color: #16305e; border-bottom: 1px solid #9B9898; border-left: 1px solid #9B9898; border-radius: 0; border-right: 1px solid #9B9898; border-top: 1px solid #9B9898; color: #000000; width: 480px;\" width=\"480\">\n",
       " <tr>\n",
       " <td class=\"column column-1\" style=\"mso-table-lspace: 0pt; mso-table-rspace: 0pt; font-weight: 400; text-align: left; padding-bottom: 5px; padding-top: 5px; vertical-align: top; border-top: 0px; border-right: 0px; border-bottom: 0px; border-left: 0px;\" width=\"100%\">\n",
       " <table border=\"0\" cellpadding=\"0\" cellspacing=\"0\" class=\"image_block block-1\" role=\"presentation\" style=\"mso-table-lspace: 0pt; mso-table-rspace: 0pt;\" width=\"100%\">\n",
       " <tr>\n",
       " <td class=\"pad\" style=\"padding-bottom:10px;width:100%;padding-right:0px;padding-left:0px;\">\n",
       " <div align=\"center\" class=\"alignment\" style=\"line-height:10px\"><a href=\"#\" style=\"outline:none\" tabindex=\"-1\" target=\"_blank\" title=\"\"><img alt=\"The American Voter Logo\" src=\"https://theamericanvoter.com/wp-content/uploads/2022/11/The-American-Voter-11.png\" style=\"display: block; height: auto; border: 0; width: 287px; max-width: 100%;\" title=\"The American Voter Logo\" width=\"287\"/></a></div>\n",
       " </td>\n",
       " </tr>\n",
       " </table>\n",
       " </td>\n",
       " </tr>\n",
       " </table>\n",
       " </td>\n",
       " </tr>\n",
       " </table>\n",
       " <table align=\"center\" border=\"0\" cellpadding=\"0\" cellspacing=\"0\" class=\"row row-3\" role=\"presentation\" style=\"mso-table-lspace: 0pt; mso-table-rspace: 0pt;\" width=\"100%\">\n",
       " <tr>\n",
       " <td>\n",
       " <table align=\"center\" border=\"0\" cellpadding=\"0\" cellspacing=\"0\" class=\"row-content stack\" role=\"presentation\" style=\"mso-table-lspace: 0pt; mso-table-rspace: 0pt; background-color: #16305e; border-bottom: 1px solid #9B9898; border-left: 1px solid #9B9898; border-radius: 0; border-right: 1px solid #9B9898; border-top: 1px solid #9B9898; color: #000000; width: 480px;\" width=\"480\">\n",
       " <tr>\n",
       " <td class=\"column column-1\" style=\"mso-table-lspace: 0pt; mso-table-rspace: 0pt; font-weight: 400; text-align: left; padding-bottom: 5px; padding-top: 5px; vertical-align: top; border-top: 0px; border-right: 0px; border-bottom: 0px; border-left: 0px;\" width=\"100%\">\n",
       " <table border=\"0\" cellpadding=\"0\" cellspacing=\"0\" class=\"html_block block-1\" role=\"presentation\" style=\"mso-table-lspace: 0pt; mso-table-rspace: 0pt;\" width=\"100%\">\n",
       " <tr>\n",
       " <td class=\"pad\">\n",
       " <div align=\"center\" style=\"font-family:Arial, Helvetica Neue, Helvetica, sans-serif;text-align:center;\"><div>\n",
       " <a href=\"#\" title=\"\">\n",
       " <img src=\"https://email.theamericanvoter.com/?id=275075&amp;key=25854xxxxxx@gmail.com&amp;total=2&amp;offset=0&amp;layout=3&amp;size=478x125\"/>\n",
       " </a>\n",
       " </div>\n",
       " </div>\n",
       " </td>\n",
       " </tr>\n",
       " </table>\n",
       " </td>\n",
       " </tr>\n",
       " </table>\n",
       " </td>\n",
       " </tr>\n",
       " </table>\n",
       " <table align=\"center\" border=\"0\" cellpadding=\"0\" cellspacing=\"0\" class=\"row row-4\" role=\"presentation\" style=\"mso-table-lspace: 0pt; mso-table-rspace: 0pt;\" width=\"100%\">\n",
       " <tr>\n",
       " <td>\n",
       " <table align=\"center\" border=\"0\" cellpadding=\"0\" cellspacing=\"0\" class=\"row-content stack\" role=\"presentation\" style=\"mso-table-lspace: 0pt; mso-table-rspace: 0pt; border-radius: 0; color: #000000; background-color: #16305e; width: 480px;\" width=\"480\">\n",
       " <tr>\n",
       " <td class=\"column column-1\" style=\"mso-table-lspace: 0pt; mso-table-rspace: 0pt; font-weight: 400; text-align: left; padding-bottom: 25px; padding-top: 25px; vertical-align: top; border-top: 0px; border-right: 0px; border-bottom: 0px; border-left: 0px;\" width=\"100%\">\n",
       " <table border=\"0\" cellpadding=\"10\" cellspacing=\"0\" class=\"paragraph_block block-1\" role=\"presentation\" style=\"mso-table-lspace: 0pt; mso-table-rspace: 0pt; word-break: break-word;\" width=\"100%\">\n",
       " <tr>\n",
       " <td class=\"pad\">\n",
       " <div style=\"color:#d53630;direction:ltr;font-family:Arial, Helvetica Neue, Helvetica, sans-serif;font-size:16px;font-weight:400;letter-spacing:0px;line-height:120%;text-align:center;mso-line-height-alt:19.2px;\">\n",
       " <p style=\"margin: 0;\"><span style=\"color: #4ea5cf;\"><em>American Voter Poll Question!</em></span></p>\n",
       " </div>\n",
       " </td>\n",
       " </tr>\n",
       " </table>\n",
       " <table border=\"0\" cellpadding=\"10\" cellspacing=\"0\" class=\"paragraph_block block-2\" role=\"presentation\" style=\"mso-table-lspace: 0pt; mso-table-rspace: 0pt; word-break: break-word;\" width=\"100%\">\n",
       " <tr>\n",
       " <td class=\"pad\">\n",
       " <div style=\"color:#ffffff;direction:ltr;font-family:Arial, Helvetica Neue, Helvetica, sans-serif;font-size:28px;font-weight:400;letter-spacing:0px;line-height:150%;text-align:center;mso-line-height-alt:42px;\">\n",
       " <p style=\"margin: 0;\"><strong>Vote: Should repeat criminal offenders face harsher punishment?</strong></p>\n",
       " </div>\n",
       " </td>\n",
       " </tr>\n",
       " </table>\n",
       " <table border=\"0\" cellpadding=\"10\" cellspacing=\"0\" class=\"divider_block block-3\" role=\"presentation\" style=\"mso-table-lspace: 0pt; mso-table-rspace: 0pt;\" width=\"100%\">\n",
       " <tr>\n",
       " <td class=\"pad\">\n",
       " <div align=\"center\" class=\"alignment\">\n",
       " <table border=\"0\" cellpadding=\"0\" cellspacing=\"0\" role=\"presentation\" style=\"mso-table-lspace: 0pt; mso-table-rspace: 0pt;\" width=\"65%\">\n",
       " <tr>\n",
       " <td class=\"divider_inner\" style=\"font-size: 1px; line-height: 1px; border-top: 1px dashed #FFFFFF;\"><span> </span></td>\n",
       " </tr>\n",
       " </table>\n",
       " </div>\n",
       " </td>\n",
       " </tr>\n",
       " </table>\n",
       " <table border=\"0\" cellpadding=\"10\" cellspacing=\"0\" class=\"paragraph_block block-4\" role=\"presentation\" style=\"mso-table-lspace: 0pt; mso-table-rspace: 0pt; word-break: break-word;\" width=\"100%\">\n",
       " <tr>\n",
       " <td class=\"pad\">\n",
       " <div style=\"color:#d53630;direction:ltr;font-family:Arial, Helvetica Neue, Helvetica, sans-serif;font-size:16px;font-weight:400;letter-spacing:0px;line-height:120%;text-align:center;mso-line-height-alt:19.2px;\">\n",
       " <p style=\"margin: 0;\"><span style=\"color: #4ea5cf;\"><strong>SUBMIT YOUR VOTE</strong></span></p>\n",
       " </div>\n",
       " </td>\n",
       " </tr>\n",
       " </table>\n",
       " <table border=\"0\" cellpadding=\"10\" cellspacing=\"0\" class=\"button_block block-5\" role=\"presentation\" style=\"mso-table-lspace: 0pt; mso-table-rspace: 0pt;\" width=\"100%\">\n",
       " <tr>\n",
       " <td class=\"pad\">\n",
       " <div align=\"center\" class=\"alignment\"><!--[if mso]><v:roundrect xmlns:v=\"urn:schemas-microsoft-com:vml\" xmlns:w=\"urn:schemas-microsoft-com:office:word\" href=\"https://inbox-entertainment.lt.acemlnb.com/Prod/link-tracker?redirectUrl=aHR0cHMlM0ElMkYlMkZ0aGVhbWVyaWNhbnZvdGVyLmNvbSUyRnZvdGUtc2hvdWxkLXJlcGVhdC1jcmltaW5hbC1vZmZlbmRlcnMtZmFjZS1oYXJzaGVyLXB1bmlzaG1lbnQlMkY=&sig=C4vPcR5AewZCk7oas64LfKYbzufV3EbunqVEQaGNLZFQ&iat=1681097805&a=%7C%7C27585540%7C%7C&account=inbox-entertainment%2Eactivehosted%2Ecom&email=KL1UxkbKCtwDRV0mTzMLn%2BwA5UbTygcfI5%2FgvgF9Ud7vwAItYEq%2BuA%3D%3D%3APZOVGQJLTtz4InA0kCqslteGvpy50Idz&s=935d22708f987185877576b31f290cc2&i=25854A27391A1A234636\" style=\"height:41px;width:345px;v-text-anchor:middle;\" arcsize=\"66%\" stroke=\"false\" fillcolor=\"#ffffff\"><w:anchorlock/><v:textbox inset=\"0px,0px,0px,0px\"><center style=\"color:#ba221e; font-family:Arial, sans-serif; font-size:16px\"><![endif]--><a href=\"#\" style=\"text-decoration:none;display:block;color:#ba221e;background-color:#ffffff;border-radius:27px;width:75%;border-top:0px solid #8a3b8f;font-weight:400;border-right:0px solid #8a3b8f;border-bottom:0px solid #8a3b8f;border-left:0px solid #8a3b8f;padding-top:5px;padding-bottom:5px;font-family:Arial, Helvetica Neue, Helvetica, sans-serif;font-size:16px;text-align:center;mso-border-alt:none;word-break:keep-all;\" target=\"_blank\" title=\"\"><span style=\"padding-left:20px;padding-right:20px;font-size:16px;display:inline-block;letter-spacing:normal;\"><span dir=\"ltr\" style=\"word-break: break-word; line-height: 32px;\"><strong>Yes they should!</strong></span></span></a><!--[if\n",
       " mso]></center></v:textbox></v:roundrect><![endif]--></div>\n",
       " </td>\n",
       " </tr>\n",
       " </table>\n",
       " <table border=\"0\" cellpadding=\"10\" cellspacing=\"0\" class=\"button_block block-6\" role=\"presentation\" style=\"mso-table-lspace: 0pt; mso-table-rspace: 0pt;\" width=\"100%\">\n",
       " <tr>\n",
       " <td class=\"pad\">\n",
       " <div align=\"center\" class=\"alignment\"><!--[if mso]><v:roundrect xmlns:v=\"urn:schemas-microsoft-com:vml\" xmlns:w=\"urn:schemas-microsoft-com:office:word\" href=\"https://inbox-entertainment.lt.acemlnb.com/Prod/link-tracker?redirectUrl=aHR0cHMlM0ElMkYlMkZ0aGVhbWVyaWNhbnZvdGVyLmNvbSUyRnZvdGUtc2hvdWxkLXJlcGVhdC1jcmltaW5hbC1vZmZlbmRlcnMtZmFjZS1oYXJzaGVyLXB1bmlzaG1lbnQlMkY=&sig=C4vPcR5AewZCk7oas64LfKYbzufV3EbunqVEQaGNLZFQ&iat=1681097805&a=%7C%7C27585540%7C%7C&account=inbox-entertainment%2Eactivehosted%2Ecom&email=KL1UxkbKCtwDRV0mTzMLn%2BwA5UbTygcfI5%2FgvgF9Ud7vwAItYEq%2BuA%3D%3D%3APZOVGQJLTtz4InA0kCqslteGvpy50Idz&s=935d22708f987185877576b31f290cc2&i=25854A27391A1A234636\" style=\"height:41px;width:345px;v-text-anchor:middle;\" arcsize=\"66%\" stroke=\"false\" fillcolor=\"#ffffff\"><w:anchorlock/><v:textbox inset=\"0px,0px,0px,0px\"><center style=\"color:#ba221e; font-family:Arial, sans-serif; font-size:16px\"><![endif]--><a href=\"#\" style=\"text-decoration:none;display:block;color:#ba221e;background-color:#ffffff;border-radius:27px;width:75%;border-top:0px solid #8a3b8f;font-weight:400;border-right:0px solid #8a3b8f;border-bottom:0px solid #8a3b8f;border-left:0px solid #8a3b8f;padding-top:5px;padding-bottom:5px;font-family:Arial, Helvetica Neue, Helvetica, sans-serif;font-size:16px;text-align:center;mso-border-alt:none;word-break:keep-all;\" target=\"_blank\" title=\"\"><span style=\"padding-left:20px;padding-right:20px;font-size:16px;display:inline-block;letter-spacing:normal;\"><span dir=\"ltr\" style=\"word-break: break-word; line-height: 32px;\"><strong>No they should not</strong></span></span></a><!--[if\n",
       " mso]></center></v:textbox></v:roundrect><![endif]--></div>\n",
       " </td>\n",
       " </tr>\n",
       " </table>\n",
       " </td>\n",
       " </tr>\n",
       " </table>\n",
       " </td>\n",
       " </tr>\n",
       " </table>\n",
       " <table align=\"center\" border=\"0\" cellpadding=\"0\" cellspacing=\"0\" class=\"row row-5\" role=\"presentation\" style=\"mso-table-lspace: 0pt; mso-table-rspace: 0pt;\" width=\"100%\">\n",
       " <tr>\n",
       " <td>\n",
       " <table align=\"center\" border=\"0\" cellpadding=\"0\" cellspacing=\"0\" class=\"row-content stack\" role=\"presentation\" style=\"mso-table-lspace: 0pt; mso-table-rspace: 0pt; background-color: #16305e; border-bottom: 1px solid #9B9898; border-left: 1px solid #9B9898; border-radius: 0; border-right: 1px solid #9B9898; border-top: 1px solid #9B9898; color: #000000; width: 480px;\" width=\"480\">\n",
       " <tr>\n",
       " <td class=\"column column-1\" style=\"mso-table-lspace: 0pt; mso-table-rspace: 0pt; font-weight: 400; text-align: left; padding-bottom: 5px; padding-top: 5px; vertical-align: top; border-top: 0px; border-right: 0px; border-bottom: 0px; border-left: 0px;\" width=\"100%\">\n",
       " <table border=\"0\" cellpadding=\"0\" cellspacing=\"0\" class=\"html_block block-1\" role=\"presentation\" style=\"mso-table-lspace: 0pt; mso-table-rspace: 0pt;\" width=\"100%\">\n",
       " <tr>\n",
       " <td class=\"pad\">\n",
       " <div align=\"center\" style=\"font-family:Arial, Helvetica Neue, Helvetica, sans-serif;text-align:center;\"><div>\n",
       " <a href=\"#\" title=\"\">\n",
       " <img src=\"https://email.theamericanvoter.com/?id=275075&amp;key=25854xxxxxx@gmail.com&amp;total=2&amp;offset=1&amp;size=478x250\"/>\n",
       " </a>\n",
       " </div>\n",
       " </div>\n",
       " </td>\n",
       " </tr>\n",
       " </table>\n",
       " </td>\n",
       " </tr>\n",
       " </table>\n",
       " </td>\n",
       " </tr>\n",
       " </table>\n",
       " <table align=\"center\" border=\"0\" cellpadding=\"0\" cellspacing=\"0\" class=\"row row-6\" role=\"presentation\" style=\"mso-table-lspace: 0pt; mso-table-rspace: 0pt;\" width=\"100%\">\n",
       " <tr>\n",
       " <td>\n",
       " <table align=\"center\" border=\"0\" cellpadding=\"0\" cellspacing=\"0\" class=\"row-content stack\" role=\"presentation\" style=\"mso-table-lspace: 0pt; mso-table-rspace: 0pt; border-radius: 0; color: #000000; background-color: #282828; width: 480px;\" width=\"480\">\n",
       " <tr>\n",
       " <td class=\"column column-1\" style=\"mso-table-lspace: 0pt; mso-table-rspace: 0pt; font-weight: 400; text-align: left; border-bottom: 1px solid #9B9898; border-left: 1px solid #9B9898; border-right: 1px solid #9B9898; border-top: 1px solid #9B9898; padding-bottom: 40px; padding-top: 40px; vertical-align: top;\" width=\"100%\">\n",
       " <table border=\"0\" cellpadding=\"10\" cellspacing=\"0\" class=\"paragraph_block block-1\" role=\"presentation\" style=\"mso-table-lspace: 0pt; mso-table-rspace: 0pt; word-break: break-word;\" width=\"100%\">\n",
       " <tr>\n",
       " <td class=\"pad\">\n",
       " <div style=\"color:#ffffff;direction:ltr;font-family:Arial, Helvetica Neue, Helvetica, sans-serif;font-size:14px;font-weight:400;letter-spacing:0px;line-height:120%;text-align:center;mso-line-height-alt:16.8px;\">\n",
       " <p style=\"margin: 0;\"><span style=\"color: #ffffff;\">© The American Voter 2022 All Rights Reserved</span></p>\n",
       " </div>\n",
       " </td>\n",
       " </tr>\n",
       " </table>\n",
       " <table border=\"0\" cellpadding=\"0\" cellspacing=\"0\" class=\"paragraph_block block-2\" role=\"presentation\" style=\"mso-table-lspace: 0pt; mso-table-rspace: 0pt; word-break: break-word;\" width=\"100%\">\n",
       " <tr>\n",
       " <td class=\"pad\">\n",
       " <div style=\"color:#232323;direction:ltr;font-family:Arial, Helvetica Neue, Helvetica, sans-serif;font-size:16px;font-weight:400;letter-spacing:0px;line-height:120%;text-align:left;mso-line-height-alt:19.2px;\">\n",
       " <p style=\"margin: 0;\"><span style=\"color: #282828;\"><a href=\"#\" rel=\"noopener\" style=\"text-decoration: underline; color: transparent;\" target=\"_blank\" title=\"\">bot-trap</a></span></p>\n",
       " </div>\n",
       " </td>\n",
       " </tr>\n",
       " </table>\n",
       " </td>\n",
       " </tr>\n",
       " </table>\n",
       " </td>\n",
       " </tr>\n",
       " </table>\n",
       " </td>\n",
       " </tr>\n",
       " </table>\n",
       " <!-- End -->\n",
       " <img border=\"0\" height=\"1\" src=\"https://inbox-entertainment.lt.acemlnb.com/Prod/link-tracker?nl=1&amp;c=25854&amp;m=27391&amp;s=935d22708f987185877576b31f290cc2&amp;l=open&amp;account=inbox-entertainment.activehosted.com&amp;a=27585540\" style=\"display:block;width:1px!important;min-width:1px!important;max-width:1px!important;height:1px!important;border:0;overflow:hidden;\" width=\"1\"/><br/><div id=\"ac-footer\" style=\"clear:both;background-color:inherit;background:inherit;min-width:100%;mso-table-lspace:0pt;mso-table-rspace:0pt;padding:20px;color:#000000;font-size:11px;font-family:arial,helvetica,sans-serif;line-height:140%;line-height:1.4;text-align:center;box-sizing:border-box;\">\n",
       " <center>\n",
       " \t\tSent to: <span style=\"font-size:11px;font-family:arial,helvetica,sans-serif;font-weight:normal;text-decoration:none;outline:none;\"><a class=\"__cf_email__\" data-cfemail=\"bbc3c3c3c3c3c3fbdcd6dad2d795d8d4d6\" href=\"/cdn-cgi/l/email-protection\">[email protected]</a></span>\n",
       " <br/>\n",
       " <br/>\n",
       " \t\tUnsubscribe\n",
       " \t\t<br/>\n",
       " <br/> Inbox Entertainment, 380 New York Ave, Huntington, NY 11743, United States\n",
       " \t</center>\n",
       " </div>\n",
       " <br clear=\"all\"/>\n",
       " <script data-cfasync=\"false\" src=\"/cdn-cgi/scripts/5c5dd728/cloudflare-static/email-decode.min.js\"></script></body>,\n",
       " 'Plain Text': 'Your vote counts! Â âÂ âÂ âÂ âÂ âÂ âÂ âÂ âÂ âÂ âÂ âÂ âÂ âÂ âÂ âÂ âÂ âÂ âÂ âÂ âÂ âÂ âÂ âÂ âÂ âÂ âÂ âÂ âÂ âÂ âÂ âÂ âÂ âÂ âÂ âÂ âÂ âÂ âÂ âÂ âÂ âÂ âÂ âÂ âÂ âÂ âÂ âÂ âÂ âÂ âÂ âÂ âÂ âÂ âÂ âÂ âÂ âÂ âÂ âÂ âÂ âÂ âÂ âÂ âÂ âÂ âÂ âÂ âÂ âÂ âÂ âÂ âÂ âÂ âÂ âÂ âÂ âÂ âÂ âÂ âÂ âÂ âÂ âÂ âÂ âÂ âÂ âÂ âÂ âÂ âÂ âÂ âÂ âÂ âÂ âÂ âÂ âÂ âÂ âÂ âÂ âÂ âÂ âÂ âÂ âÂ âÂ âÂ âÂ âÂ âÂ âÂ âÂ âÂ âÂ âÂ âÂ âÂ âÂ âÂ âÂ âÂ âÂ âÂ âÂ âÂ ââ[link removed] [link removed]**American Voter Poll Question!****Vote: Should repeat criminal offenders face harsher punishment?**â**SUBMIT YOUR VOTE****Yes they should!**<[link removed]>**No they should not**<[link removed]>[link removed]Â© The American Voter 2022 All Rights Reservedbot-trap <[link removed]>_________________Sent to [email protected]Unsubscribe:[link removed]Inbox Entertainment, 380 New York Ave, Huntington, NY 11743, United States'}"
      ]
     },
     "execution_count": 17,
     "metadata": {},
     "output_type": "execute_result"
    }
   ],
   "source": [
    "message"
   ]
  },
  {
   "cell_type": "code",
   "execution_count": 18,
   "id": "fa47d476",
   "metadata": {},
   "outputs": [],
   "source": [
    "\n",
    "\n",
    "def clean(s, z):\n",
    "    s = s.replace('\\n' ,'')\n",
    "    s = s.replace('\\t' ,'')\n",
    "    if(z==1): # Cleaning Country & Political_Party\n",
    "        s = s.split(\":\")\n",
    "        return s[-1]\n",
    "    elif(z==2):\n",
    "        s = s.split(\"<\")\n",
    "        return s[0]\n",
    "    else :\n",
    "        return s\n",
    "    \n",
    "def decodeEmail(e):\n",
    "    de = \"\"\n",
    "    k = int(e[:2], 16)\n",
    "\n",
    "    for i in range(2, len(e)-1, 2):\n",
    "        de += chr(int(e[i:i+2], 16)^k)\n",
    "\n",
    "    return de\n",
    "\n",
    "def get_html_body_code(url):\n",
    "    url = url+('/html_body')\n",
    "    r1 = requests.get(url)\n",
    "    s = BeautifulSoup(r1.content, 'lxml')\n",
    "    body_tag = s.find('body')\n",
    "\n",
    "    return body_tag\n",
    "\n",
    "def get_plain_text(url):\n",
    "    \n",
    "    r2 = requests.get(url+'#plain-text')\n",
    "    s = BeautifulSoup(r2.content)\n",
    "    \n",
    "    plain_text  = s.find(class_='message-text').text\n",
    "    plain_text = unicodedata.normalize('NFKD', plain_text)\n",
    "    encoded_text = plain_text.encode('utf-8')    \n",
    "    decoded_text = encoded_text.decode('utf-8')\n",
    "\n",
    "    cleaned_text = unicodedata.normalize('NFKD', decoded_text)\n",
    "\n",
    "    cleaned_text = ''.join(c for c in cleaned_text if unicodedata.category(c)[0] != 'C')\n",
    "\n",
    "\n",
    "    return cleaned_text\n",
    "\n"
   ]
  },
  {
   "cell_type": "code",
   "execution_count": 51,
   "id": "e5e20969",
   "metadata": {},
   "outputs": [],
   "source": [
    "def scrap_message(url):\n",
    "    response = requests.get(url)\n",
    "    soup = BeautifulSoup(response.content, 'lxml')\n",
    "    \n",
    "    \n",
    "    info_box =soup.find( class_='connections-box')\n",
    "    elements = info_box.find('ul').find_all('li')\n",
    "\n",
    "    org_name = clean(elements[0].get_text(),1)\n",
    "    Political_Party = clean(elements[1].get_text(),1)\n",
    "    Country = clean(elements[2].get_text(),1)\n",
    "    title = clean(soup.find(class_='page-title').get_text() ,0)\n",
    "    \n",
    "    upper_info = soup.find_all(class_='content-box-meta__value')\n",
    "    \n",
    "    from_text = clean(upper_info[0].text,2)\n",
    "    \n",
    "    org_site = upper_info[0].a\n",
    "    if(org_site.span == None):\n",
    "        org_site = org_site['data-cfemail']\n",
    "    else:\n",
    "         org_site = org_site.span['data-cfemail']\n",
    "            \n",
    "    org_site = decodeEmail(org_site)\n",
    "    subject =upper_info[1].text.strip()\n",
    "    send_date = clean(upper_info[2].text,2)\n",
    "    html_body_code = get_html_body_code(url)\n",
    "    plain_text = get_plain_text(url)\n",
    "    \n",
    "    \n",
    "    message = {}\n",
    "    message['Country'] = Country\n",
    "    message['Political Party']=Political_Party\n",
    "    message['Organization Name'] = org_name\n",
    "    message['Organization website'] = org_site\n",
    "    message['From'] = from_text\n",
    "    message['Subject Line']=subject\n",
    "    message['Send Date'] = send_date\n",
    "    message['HTML'] = html_body_code\n",
    "    message['Plain Text'] = plain_text\n",
    "    \n",
    "    return message\n",
    "    \n",
    "    \n",
    "\n",
    "\n",
    "    \n",
    "\n",
    "\n",
    "    "
   ]
  },
  {
   "cell_type": "code",
   "execution_count": 53,
   "id": "e46b9921",
   "metadata": {},
   "outputs": [],
   "source": [
    "all_messages = []\n",
    "\n",
    "message_info = scrap_message('https://politicalemails.org/messages/1011973')\n",
    "\n",
    "all_messages.append(message_info)"
   ]
  },
  {
   "cell_type": "code",
   "execution_count": 54,
   "id": "ddc0f34a",
   "metadata": {},
   "outputs": [
    {
     "data": {
      "text/html": [
       "<div>\n",
       "<style scoped>\n",
       "    .dataframe tbody tr th:only-of-type {\n",
       "        vertical-align: middle;\n",
       "    }\n",
       "\n",
       "    .dataframe tbody tr th {\n",
       "        vertical-align: top;\n",
       "    }\n",
       "\n",
       "    .dataframe thead th {\n",
       "        text-align: right;\n",
       "    }\n",
       "</style>\n",
       "<table border=\"1\" class=\"dataframe\">\n",
       "  <thead>\n",
       "    <tr style=\"text-align: right;\">\n",
       "      <th></th>\n",
       "      <th>Country</th>\n",
       "      <th>Political Party</th>\n",
       "      <th>Organization Name</th>\n",
       "      <th>Organization website</th>\n",
       "      <th>From</th>\n",
       "      <th>Subject Line</th>\n",
       "      <th>Send Date</th>\n",
       "      <th>HTML</th>\n",
       "      <th>Plain Text</th>\n",
       "    </tr>\n",
       "  </thead>\n",
       "  <tbody>\n",
       "    <tr>\n",
       "      <th>0</th>\n",
       "      <td>United States</td>\n",
       "      <td>n/a</td>\n",
       "      <td>Mississippi Center for Public Policy</td>\n",
       "      <td>mail@mspolicy.org</td>\n",
       "      <td>Tyler B. Jones</td>\n",
       "      <td>Come see why we need the fossil fuel industry!</td>\n",
       "      <td>April 10, 2023 3:29 AM</td>\n",
       "      <td>[\\n, \\n, \\n, [\\n, [\\n, &lt;tr&gt;\\n&lt;td align=\"center...</td>\n",
       "      <td>View this email in your browser ([link removed...</td>\n",
       "    </tr>\n",
       "  </tbody>\n",
       "</table>\n",
       "</div>"
      ],
      "text/plain": [
       "         Country Political Party                     Organization Name  \\\n",
       "0  United States             n/a  Mississippi Center for Public Policy   \n",
       "\n",
       "  Organization website             From  \\\n",
       "0    mail@mspolicy.org  Tyler B. Jones    \n",
       "\n",
       "                                     Subject Line               Send Date  \\\n",
       "0  Come see why we need the fossil fuel industry!  April 10, 2023 3:29 AM   \n",
       "\n",
       "                                                HTML  \\\n",
       "0  [\\n, \\n, \\n, [\\n, [\\n, <tr>\\n<td align=\"center...   \n",
       "\n",
       "                                          Plain Text  \n",
       "0  View this email in your browser ([link removed...  "
      ]
     },
     "execution_count": 54,
     "metadata": {},
     "output_type": "execute_result"
    }
   ],
   "source": [
    "df = pd.DataFrame(all_messages)\n",
    "df"
   ]
  },
  {
   "cell_type": "code",
   "execution_count": 55,
   "id": "5af77d70",
   "metadata": {},
   "outputs": [],
   "source": [
    "df.to_csv('message.csv' )"
   ]
  },
  {
   "cell_type": "code",
   "execution_count": null,
   "id": "3c161dde",
   "metadata": {},
   "outputs": [],
   "source": []
  }
 ],
 "metadata": {
  "kernelspec": {
   "display_name": "Python 3 (ipykernel)",
   "language": "python",
   "name": "python3"
  },
  "language_info": {
   "codemirror_mode": {
    "name": "ipython",
    "version": 3
   },
   "file_extension": ".py",
   "mimetype": "text/x-python",
   "name": "python",
   "nbconvert_exporter": "python",
   "pygments_lexer": "ipython3",
   "version": "3.8.6"
  }
 },
 "nbformat": 4,
 "nbformat_minor": 5
}
