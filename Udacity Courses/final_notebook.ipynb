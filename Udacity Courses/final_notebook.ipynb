{
 "cells": [
  {
   "cell_type": "code",
   "execution_count": 1,
   "id": "38371e03",
   "metadata": {},
   "outputs": [],
   "source": [
    "import unicodedata\n",
    "from bs4 import BeautifulSoup\n",
    "import requests\n",
    "import pandas as pd\n",
    "from selenium import webdriver\n",
    "from selenium.webdriver.common.by import By\n",
    "import numpy as np\n",
    "from bs4 import BeautifulSoup\n",
    "import requests\n",
    "import unicodedata\n",
    "import pandas as pd\n",
    "from selenium import webdriver\n",
    "from selenium.webdriver.common.by import By\n",
    "\n",
    "from selenium.webdriver.support.ui import WebDriverWait\n",
    "from selenium.webdriver.support import expected_conditions as EC\n",
    "from selenium.webdriver.chrome.options import Options\n",
    "from selenium.webdriver.common.action_chains import ActionChains\n",
    "\n",
    "import time\n"
   ]
  },
  {
   "cell_type": "code",
   "execution_count": 2,
   "id": "bb919f22",
   "metadata": {},
   "outputs": [
    {
     "name": "stdout",
     "output_type": "stream",
     "text": [
      "['https://www.udacity.com/course/data-engineer-nanodegree--nd027', 'https://www.udacity.com/course/c-plus-plus-nanodegree--nd213', 'https://www.udacity.com/course/intro-to-programming-nanodegree--nd000', 'https://www.udacity.com/course/data-analyst-nanodegree--nd002', 'https://www.udacity.com/course/business-analytics-nanodegree--nd098', 'https://www.udacity.com/course/data-engineer-nanodegree--nd027', 'https://www.udacity.com/course/c-plus-plus-nanodegree--nd213', 'https://www.udacity.com/course/intro-to-programming-nanodegree--nd000', 'https://www.udacity.com/course/data-analyst-nanodegree--nd002', 'https://www.udacity.com/course/business-analytics-nanodegree--nd098', 'https://www.udacity.com/course/product-manager-nanodegree--nd036', 'https://www.udacity.com/course/programming-for-data-science-nanodegree--nd104', 'https://www.udacity.com/course/ai-programming-python-nanodegree--nd089', 'https://www.udacity.com/course/data-scientist-nanodegree--nd025', 'https://www.udacity.com/course/ai-for-trading--nd880', 'https://www.udacity.com/course/front-end-web-developer-nanodegree--nd0011', 'https://www.udacity.com/course/self-driving-car-engineer-nanodegree--nd0013', 'https://www.udacity.com/course/machine-learning-dev-ops-engineer-nanodegree--nd0821', 'https://www.udacity.com/course/android-kotlin-developer-nanodegree--nd940', 'https://www.udacity.com/course/full-stack-web-developer-nanodegree--nd0044', 'https://www.udacity.com/course/digital-marketing-nanodegree--nd018', 'https://www.udacity.com/course/data-product-manager-nanodegree--nd030', 'https://www.udacity.com/course/learn-sql--nd072', 'https://www.udacity.com/course/react-nanodegree--nd019', 'https://www.udacity.com/course/deep-learning-nanodegree--nd101', 'https://www.udacity.com/course/ux-designer-nanodegree--nd578', 'https://www.udacity.com/course/intro-to-cybersecurity-nanodegree--nd545', 'https://www.udacity.com/course/deep-reinforcement-learning-nanodegree--nd893', 'https://www.udacity.com/course/computer-vision-nanodegree--nd891', 'https://www.udacity.com/course/java-developer-nanodegree--nd035', 'https://www.udacity.com/course/natural-language-processing-nanodegree--nd892', 'https://www.udacity.com/course/growth-product-manager-nanodegree--nd037', 'https://www.udacity.com/course/data-analysis-and-visualization-with-power-BI-nanodegree--nd331', 'https://www.udacity.com/course/cloud-native-application-architecture-nanodegree--nd064', 'https://www.udacity.com/course/cloud-dev-ops-nanodegree--nd9991', 'https://www.udacity.com/course/data-architect-nanodegree--nd038', 'https://www.udacity.com/course/ios-developer-nanodegree--nd003', 'https://www.udacity.com/course/blockchain-developer-nanodegree--nd1309', 'https://www.udacity.com/course/digital-project-management-nanodegree--nd043', 'https://www.udacity.com/course/data-engineering-with-microsoft-azure-nanodegree--nd0277', 'https://www.udacity.com/course/aws-cloud-architect-nanodegree--nd063', 'https://www.udacity.com/course/robotics-software-engineer--nd209', 'https://www.udacity.com/course/aws-machine-learning-engineer-nanodegree--nd189', 'https://www.udacity.com/course/ai-product-manager-nanodegree--nd088', 'https://www.udacity.com/course/data-structures-and-algorithms-nanodegree--nd256', 'https://www.udacity.com/course/agile-software-development-nanodegree--nd144', 'https://www.udacity.com/course/intermediate-python-nanodegree--nd303', 'https://www.udacity.com/course/cloud-developer-nanodegree--nd9990', 'https://www.udacity.com/course/sensor-fusion-engineer-nanodegree--nd313', 'https://www.udacity.com/course/ai-for-business-leaders--nd054', 'https://www.udacity.com/course/ai-artificial-intelligence-nanodegree--nd898', 'https://www.udacity.com/course/data-streaming-nanodegree--nd029', 'https://www.udacity.com/course/java-programming-nanodegree--nd079', 'https://www.udacity.com/course/intermediate-javascript-nanodegree--nd032', 'https://www.udacity.com/course/ai-for-healthcare-nanodegree--nd320', 'https://www.udacity.com/course/intro-to-self-driving-cars--nd113', 'https://www.udacity.com/course/marketing-analytics-nanodegree--nd028', 'https://www.udacity.com/course/intro-to-machine-learning-nanodegree--nd229', 'https://www.udacity.com/course/predictive-analytics-for-business-nanodegree--nd008t', 'https://www.udacity.com/course/intro-to-machine-learning-with-tensorflow-nanodegree--nd230', 'https://www.udacity.com/course/full-stack-javascript-developer-nanodegree--nd0067', 'https://www.udacity.com/course/digital-freelancer-nanodegree--nd083', 'https://www.udacity.com/course/ethical-hacker-nanodegree--nd350', 'https://www.udacity.com/course/security-architect-nanodegree--nd992', 'https://www.udacity.com/course/site-reliability-engineer-nanodegree--nd087', 'https://www.udacity.com/course/machine-learning-engineer-for-microsoft-azure-nanodegree--nd00333', 'https://www.udacity.com/course/data-science-for-business-leaders--nd045', 'https://www.udacity.com/course/cloud-developer-using-microsoft-azure-nanodegree--nd081', 'https://www.udacity.com/course/golang--cd11970', 'https://www.udacity.com/course/cloud-devops-using-microsoft-azure-nanodegree--nd082', 'https://www.udacity.com/course/flying-car-nanodegree--nd787', 'https://www.udacity.com/course/security-engineer-nanodegree--nd698', 'https://www.udacity.com/course/data-visualization-nanodegree--nd197', 'https://www.udacity.com/course/cloud-architect-using-microsoft-azure-nanodegree--nd090', 'https://www.udacity.com/course/programming-for-data-science-nanodegree-with-R--nd118', 'https://www.udacity.com/course/cloud-computing-for-business-leaders-nanodegree--nd046', 'https://www.udacity.com/course/security-analyst-nanodegree--nd324', 'https://www.udacity.com/course/data-privacy--cd1826', 'https://www.udacity.com/course/ai-engineer-using-microsoft-azure--nd073', 'https://www.udacity.com/course/privacy-engineer-nanodegree--nd325', 'https://www.udacity.com/course/enterprise-security-nanodegree--nd0035', 'https://www.udacity.com/course/statistics-for-data-science--cd0005', 'https://www.udacity.com/course/cybersecurity-for-business-leaders--nd1202', 'https://www.udacity.com/course/introduction-to-python--cd0024', 'https://www.udacity.com/course/unsupervised-learning--cd0026', 'https://www.udacity.com/course/product-design--cd0027', 'https://www.udacity.com/course/zero-trust-security--cd11535', 'https://www.udacity.com/course/supervised-machine-learning--cd0025', 'https://www.udacity.com/course/sql-for-data-analysis--cd0023', 'https://www.udacity.com/course/intro-to-data-analysis--cd0000', 'https://www.udacity.com/course/data-wrangling--cd0015', 'https://www.udacity.com/course/product-strategy--cd0020', 'https://www.udacity.com/course/data-engineering-for-data-scientists--cd0018', 'https://www.udacity.com/course/introduction-to-data-science--cd0017', 'https://www.udacity.com/course/introduction-to-sql--cd0021', 'https://www.udacity.com/course/experimental-design-and-recommendations--cd0019', 'https://www.udacity.com/course/introduction-to-data-analytics-for-business--cd0022', 'https://www.udacity.com/course/data-visualization-with-python--cd0016', 'https://www.udacity.com/course/getting-started-with-google-workspace--ud300', 'https://www.udacity.com/course/google-cloud-digital-leader-training--ud301', 'https://www.udacity.com/course/cloud-native-fundamentals--ud064', 'https://www.udacity.com/course/linear-algebra-refresher-course--ud953', 'https://www.udacity.com/course/machine-learning-for-trading--ud501', 'https://www.udacity.com/course/introduction-to-computer-vision--ud810', 'https://www.udacity.com/course/full-stack-foundations--ud088', 'https://www.udacity.com/course/product-manager-interview-preparation--ud034', 'https://www.udacity.com/course/data-wrangling-with-mongodb--ud032', 'https://www.udacity.com/course/introduction-to-python--ud1110', 'https://www.udacity.com/course/sql-for-data-analysis--ud198', 'https://www.udacity.com/course/version-control-with-git--ud123', 'https://www.udacity.com/course/intro-to-data-analysis--ud170', 'https://www.udacity.com/course/intro-to-javascript--ud803', 'https://www.udacity.com/course/c-for-programmers--ud210', 'https://www.udacity.com/course/intro-to-html-and-css--ud001', 'https://www.udacity.com/course/microsoft-power-platform--ud091', 'https://www.udacity.com/course/web-tooling-automation--ud892', 'https://www.udacity.com/course/front-end-frameworks--ud894', 'https://www.udacity.com/course/responsive-web-design-fundamentals--ud893', 'https://www.udacity.com/course/how-to-install-android-studio--ud808', 'https://www.udacity.com/course/website-performance-optimization--ud884', 'https://www.udacity.com/course/ios-networking-with-swift--ud421', 'https://www.udacity.com/course/javascript-design-patterns--ud989', 'https://www.udacity.com/course/responsive-images--ud882', 'https://www.udacity.com/course/xcode-debugging--ud774', 'https://www.udacity.com/course/build-native-mobile-apps-with-flutter--ud905', 'https://www.udacity.com/course/javascript-promises--ud898', 'https://www.udacity.com/course/uikit-fundamentals--ud788', 'https://www.udacity.com/course/client-server-communication--ud897', 'https://www.udacity.com/course/what-is-programming--ud994', 'https://www.udacity.com/course/building-high-conversion-web-forms--ud890', 'https://www.udacity.com/course/software-architecture-design--ud821', 'https://www.udacity.com/course/intro-to-information-security--ud459', 'https://www.udacity.com/course/authentication-authorization-oauth--ud330', 'https://www.udacity.com/course/intro-to-ios-app-development-with-swift--ud585', 'https://www.udacity.com/course/introduction-to-operating-systems--ud923', 'https://www.udacity.com/course/web-accessibility--ud891', 'https://www.udacity.com/course/scalable-microservices-with-kubernetes--ud615', 'https://www.udacity.com/course/developing-android-apps-with-kotlin--ud9012', 'https://www.udacity.com/course/browser-rendering-optimization--ud860', 'https://www.udacity.com/course/learn-swift-programming-syntax--ud902', 'https://www.udacity.com/course/offline-web-applications--ud899', 'https://www.udacity.com/course/kotlin-for-android-developers--ud888', 'https://www.udacity.com/course/ux-design-for-mobile-developers--ud849', 'https://www.udacity.com/course/software-development-process--ud805', 'https://www.udacity.com/course/data-visualization-in-tableau--ud1006', 'https://www.udacity.com/course/intro-to-progressive-web-apps--ud811', 'https://www.udacity.com/course/writing-readmes--ud777', 'https://www.udacity.com/course/software-analysis-testing--ud333', 'https://www.udacity.com/course/ios-persistence-and-core-data--ud325', 'https://www.udacity.com/course/computer-networking--ud436', 'https://www.udacity.com/course/firebase-analytics-ios--ud353', 'https://www.udacity.com/course/human-computer-interaction--ud400', 'https://www.udacity.com/course/2d-game-development-with-libgdx--ud405', 'https://www.udacity.com/course/intro-to-jquery--ud245', 'https://www.udacity.com/course/cyber-physical-systems-security--ud279', 'https://www.udacity.com/course/introduction-to-graduate-algorithms--ud401', 'https://www.udacity.com/course/dynamic-web-applications-with-sinatra--ud268', 'https://www.udacity.com/course/how-to-make-a-platformer-using-libgdx--ud406', 'https://www.udacity.com/course/javascript-testing--ud549', 'https://www.udacity.com/course/object-oriented-javascript--ud711', 'https://www.udacity.com/course/localization-essentials--ud610', 'https://www.udacity.com/course/compilers-theory-and-practice--ud168', 'https://www.udacity.com/course/html5-canvas--ud292', 'https://www.udacity.com/course/object-oriented-programming-in-java--ud283', 'https://www.udacity.com/course/designing-restful-apis--ud388', 'https://www.udacity.com/course/gt-refresher-advanced-os--ud098', 'https://www.udacity.com/course/grand-central-dispatch-gcd--ud576', 'https://www.udacity.com/course/continuous-integration-and-deployment--ud1030', 'https://www.udacity.com/course/swift-for-beginners--ud1022', 'https://www.udacity.com/course/intro-to-statistics--st101', 'https://www.udacity.com/course/introduction-to-virtual-reality--ud1012', 'https://www.udacity.com/course/objective-c-for-swift-developers--ud1009', 'https://www.udacity.com/course/interactive-3d-graphics--cs291', 'https://www.udacity.com/course/high-performance-computer-architecture--ud007', 'https://www.udacity.com/course/auto-layout--ud1026', 'https://www.udacity.com/course/kotlin-bootcamp-for-programmers--ud9011', 'https://www.udacity.com/course/shell-workshop--ud206', 'https://www.udacity.com/course/core-ml--ud1038', 'https://www.udacity.com/course/statistics--st095', 'https://www.udacity.com/course/intro-to-theoretical-computer-science--cs313', 'https://www.udacity.com/course/design-of-computer-programs--cs212', 'https://www.udacity.com/course/swift-for-developers--ud1025', 'https://www.udacity.com/course/firebase-in-a-weekend-by-google-android--ud0352', 'https://www.udacity.com/course/software-debugging--cs259', 'https://www.udacity.com/course/deploying-a-hadoop-cluster--ud1000', 'https://www.udacity.com/course/server-side-swift--ud1031', 'https://www.udacity.com/course/networking-for-web-developers--ud256', 'https://www.udacity.com/course/database-systems-concepts-design--ud150', 'https://www.udacity.com/course/intro-to-physics--ph100', 'https://www.udacity.com/course/intro-to-relational-databases--ud197', 'https://www.udacity.com/course/es6-javascript-improved--ud356', 'https://www.udacity.com/course/mobile-design-and-usability-for-ios--ud1034', 'https://www.udacity.com/course/intro-to-ajax--ud110', 'https://www.udacity.com/course/intro-to-algorithms--cs215', 'https://www.udacity.com/course/the-mvc-pattern-in-ruby--ud270', 'https://www.udacity.com/course/wechat-mini-programs--ud667', 'https://www.udacity.com/course/asynchronous-javascript-requests--ud109', 'https://www.udacity.com/course/embedded-systems--ud169', 'https://www.udacity.com/course/high-performance-computing--ud281', 'https://www.udacity.com/course/http-web-servers--ud303', 'https://www.udacity.com/course/advanced-android-with-kotlin--ud940', 'https://www.udacity.com/course/computability-complexity-algorithms--ud061', 'https://www.udacity.com/course/advanced-operating-systems--ud189', 'https://www.udacity.com/course/passwordless-login-solutions-for-ios--ud1028', 'https://www.udacity.com/course/firebase-in-a-weekend-by-google-ios--ud0351', 'https://www.udacity.com/course/intro-to-point-click-app-development--ud162', 'https://www.udacity.com/course/deploying-applications-with-heroku--ud272', 'https://www.udacity.com/course/applied-cryptography--cs387', 'https://www.udacity.com/course/java-programming-basics--ud282', 'https://www.udacity.com/course/intro-to-backend--ud171', 'https://www.udacity.com/course/network-security--ud199', 'https://www.udacity.com/course/javascript-and-the-dom--ud117', 'https://www.udacity.com/course/firebase-analytics-android--ud354', 'https://www.udacity.com/course/configuring-linux-web-servers--ud299', 'https://www.udacity.com/course/how-to-make-an-ios-app--ud607', 'https://www.udacity.com/course/passwordless-login-solutions-for-android--ud357', 'https://www.udacity.com/course/mobile-design-and-usability-for-android--ud358', 'https://www.udacity.com/course/ios-design-patterns--ud1029', 'https://www.udacity.com/course/intro-to-psychology--ps001', 'https://www.udacity.com/course/engagement-monetization-mobile-games--ud407', 'https://www.udacity.com/course/business-intelligence-analytics-nanodegree--nd429', 'https://www.udacity.com/course/intro-to-inferential-statistics--ud201', 'https://www.udacity.com/course/data-analysis-and-visualization--ud404', 'https://www.udacity.com/course/multi-cloud-computing--cd11573', 'https://www.udacity.com/course/oracle-autonomous-database-administration--cd12502', 'https://www.udacity.com/course/oracle-cloud-infrastructure-architect-associate--cd12503', 'https://www.udacity.com/course/oracle-cloud-infrastructure-architect-professional--cd12504', 'https://www.udacity.com/course/oracle-cloud-infrastructure-foundations--cd12505', 'https://www.udacity.com/course/oracle-cloud-infrastructure-operations-professional--cd12506', 'https://www.udacity.com/course/introduction-to-digital-project-management--ud043', 'https://www.udacity.com/course/rapid-prototyping--ud723', 'https://www.udacity.com/course/creating-an-analytical-dataset--ud977', 'https://www.udacity.com/course/problem-solving-with-advanced-analytics--ud976', 'https://www.udacity.com/course/classification-models--ud978', 'https://www.udacity.com/course/product-design--ud509', 'https://www.udacity.com/course/segmentation-and-clustering--ud981', 'https://www.udacity.com/course/time-series-forecasting--ud980', 'https://www.udacity.com/course/app-marketing--ud719', 'https://www.udacity.com/course/app-monetization--ud518', 'https://www.udacity.com/course/ab-testing--ud979', 'https://www.udacity.com/course/how-to-build-a-startup--ep245', 'https://www.udacity.com/course/get-your-startup-started--ud806', 'https://www.udacity.com/course/managing-remote-teams-with-upwork--ud942', 'https://www.udacity.com/course/cyber-physical-systems-design-analysis--ud9876', 'https://www.udacity.com/course/differential-equations-in-action--cs222', 'https://www.udacity.com/course/self-driving-car-fundamentals-featuring-apollo--ud0419', 'https://www.udacity.com/course/ethical-ai--cd1827', 'https://www.udacity.com/course/aws-machine-learning-foundations--ud065', 'https://www.udacity.com/course/introduction-to-machine-learning-using-microsoft-azure--ud00333', 'https://www.udacity.com/course/ai-fundamentals--ud099', 'https://www.udacity.com/course/machine-learning-unsupervised-learning--ud741', 'https://www.udacity.com/course/big-data-analytics-in-healthcare--ud758', 'https://www.udacity.com/course/intel-edge-AI-fundamentals-with-openvino--ud132', 'https://www.udacity.com/course/artificial-intelligence--ud954', 'https://www.udacity.com/course/secure-and-private-ai--ud185', 'https://www.udacity.com/course/model-building-and-validation--ud919', 'https://www.udacity.com/course/data-visualization-and-d3js--ud507', 'https://www.udacity.com/course/machine-learning--ud262', 'https://www.udacity.com/course/intro-to-hadoop-and-mapreduce--ud617', 'https://www.udacity.com/course/real-time-analytics-with-apache-storm--ud381', 'https://www.udacity.com/course/ab-testing--ud257', 'https://www.udacity.com/course/data-analysis-with-r--ud651', 'https://www.udacity.com/course/knowledge-based-ai-cognitive-systems--ud409', 'https://www.udacity.com/course/intro-to-tensorflow-lite--ud190', 'https://www.udacity.com/course/intro-to-tensorflow-for-deep-learning--ud187', 'https://www.udacity.com/course/eigenvectors-and-eigenvalues--ud104', 'https://www.udacity.com/course/intro-to-artificial-intelligence--cs271', 'https://www.udacity.com/course/artificial-intelligence-for-robotics--cs373', 'https://www.udacity.com/course/deep-learning-pytorch--ud188', 'https://www.udacity.com/course/aws-deepracer--ud014', 'https://www.udacity.com/course/reinforcement-learning--ud600', 'https://www.udacity.com/course/intro-to-machine-learning--ud120', 'https://www.udacity.com/course/craft-your-cover-letter--ud244', 'https://www.udacity.com/course/refresh-your-resume--ud243', 'https://www.udacity.com/course/strengthen-your-linkedin-network-and-brand--ud242', 'https://www.udacity.com/course/data-science-interview-prep--ud944', 'https://www.udacity.com/course/android-interview-prep--ud241', 'https://www.udacity.com/course/machine-learning-interview-prep--ud1001', 'https://www.udacity.com/course/front-end-interview-prep--ud250', 'https://www.udacity.com/course/full-stack-interview-prep--ud252', 'https://www.udacity.com/course/data-structures-and-algorithms-in-swift--ud1011', 'https://www.udacity.com/course/ios-interview-prep--ud240', 'https://www.udacity.com/course/vr-interview-prep--ud251']\n"
     ]
    }
   ],
   "source": [
    "with open(r'C:\\Users\\dell\\OneDrive\\Desktop\\ud.txt', encoding='utf-8') as file:\n",
    "    html_code = file.read()\n",
    "soup = BeautifulSoup(html_code, 'html.parser')\n",
    "css = soup.find_all('a')\n",
    "txt = [i.text for i in css]\n",
    "links = [i['href'] for i in css]\n",
    "cur = []\n",
    "for i in links:\n",
    "    if(i.find(\"/course/\")!=-1 and i.find(\"udacity\")==-1):\n",
    "        cur.append(i)\n",
    "cur = [\"https://www.udacity.com\"+i for i in cur]\n",
    "links = cur\n",
    "print(links)"
   ]
  },
  {
   "cell_type": "code",
   "execution_count": 169,
   "id": "472bf3ad",
   "metadata": {},
   "outputs": [],
   "source": [
    "url = links[0]\n",
    "response = requests.get(url)\n",
    "soup = BeautifulSoup(response.content, 'lxml')\n",
    "options = Options()\n",
    "options.add_argument(\"--headless=new\")\n",
    "driver = webdriver.Chrome(options = options)\n",
    "driver.get(url)"
   ]
  },
  {
   "cell_type": "code",
   "execution_count": 170,
   "id": "8d839714",
   "metadata": {},
   "outputs": [
    {
     "data": {
      "text/plain": [
       "'How to Become a Data Engineer'"
      ]
     },
     "execution_count": 170,
     "metadata": {},
     "output_type": "execute_result"
    }
   ],
   "source": [
    "\n",
    "c_title = soup.find('h1').text\n",
    "c_title"
   ]
  },
  {
   "cell_type": "code",
   "execution_count": 171,
   "id": "55aeeadd",
   "metadata": {},
   "outputs": [
    {
     "data": {
      "text/plain": [
       "'https://www.udacity.com/course/data-engineer-nanodegree--nd027'"
      ]
     },
     "execution_count": 171,
     "metadata": {},
     "output_type": "execute_result"
    }
   ],
   "source": [
    "\n",
    "c_url =url\n",
    "c_url"
   ]
  },
  {
   "cell_type": "code",
   "execution_count": 172,
   "id": "76128eb9",
   "metadata": {},
   "outputs": [
    {
     "data": {
      "text/plain": [
       "'Understand the latest AWS features used by data engineers to design and build systems for collecting, storing, and analyzing data at scale.'"
      ]
     },
     "execution_count": 172,
     "metadata": {},
     "output_type": "execute_result"
    }
   ],
   "source": [
    "\n",
    "c_intro = soup.find(class_='_brand-refresh_summary__FocCv').text\n",
    "c_intro"
   ]
  },
  {
   "cell_type": "code",
   "execution_count": 173,
   "id": "02a4f0e5",
   "metadata": {},
   "outputs": [],
   "source": [
    "\n",
    "#c_school"
   ]
  },
  {
   "cell_type": "code",
   "execution_count": 174,
   "id": "b7ddbf8b",
   "metadata": {},
   "outputs": [
    {
     "data": {
      "text/plain": [
       "'Nanodegree Program'"
      ]
     },
     "execution_count": 174,
     "metadata": {},
     "output_type": "execute_result"
    }
   ],
   "source": [
    "\n",
    "c_type = soup.find(class_='_brand-refresh_textContentContainer__oG2QX').find('h2').text\n",
    "c_type"
   ]
  },
  {
   "cell_type": "code",
   "execution_count": 175,
   "id": "4c7686fc",
   "metadata": {},
   "outputs": [
    {
     "data": {
      "text/plain": [
       "'Data Engineering with AWS'"
      ]
     },
     "execution_count": 175,
     "metadata": {},
     "output_type": "execute_result"
    }
   ],
   "source": [
    "\n",
    "c_courses = soup.find(class_='degree-syllabus_overview__qwUI5').find('h3').text\n",
    "c_courses"
   ]
  },
  {
   "cell_type": "code",
   "execution_count": 176,
   "id": "e24e0c0f",
   "metadata": {},
   "outputs": [],
   "source": [
    "\n",
    "#c_level"
   ]
  },
  {
   "cell_type": "code",
   "execution_count": 177,
   "id": "9d424533",
   "metadata": {},
   "outputs": [
    {
     "data": {
      "text/plain": [
       "'Estimated 4 months to complete'"
      ]
     },
     "execution_count": 177,
     "metadata": {},
     "output_type": "execute_result"
    }
   ],
   "source": [
    "\n",
    "c_duration = soup.find(class_='degree-syllabus_overview__qwUI5').find('b').text\n",
    "c_duration"
   ]
  },
  {
   "cell_type": "code",
   "execution_count": 178,
   "id": "21415c55",
   "metadata": {},
   "outputs": [
    {
     "data": {
      "text/plain": [
       "'4.6'"
      ]
     },
     "execution_count": 178,
     "metadata": {},
     "output_type": "execute_result"
    }
   ],
   "source": [
    "\n",
    "p='//*[@id=\"ndStudentReviewsSection\"]/div/header/div/b'\n",
    "c_rate = driver.find_element(By.XPATH, p).text\n",
    "c_rate\n"
   ]
  },
  {
   "cell_type": "code",
   "execution_count": 179,
   "id": "5838b8e4",
   "metadata": {},
   "outputs": [
    {
     "data": {
      "text/plain": [
       "'1812 viewers'"
      ]
     },
     "execution_count": 179,
     "metadata": {},
     "output_type": "execute_result"
    }
   ],
   "source": [
    "def clean_rev(s):\n",
    "    s = s.replace('(' ,'')\n",
    "    s = s.replace(')' , '')\n",
    "    s = s+ \" viewers\"\n",
    "    return s\n",
    "\n",
    "p='//*[@id=\"ndStudentReviewsSection\"]/div/header/div/span'\n",
    "c_num_rev = driver.find_element(By.XPATH, p).text\n",
    "c_num_rev = clean_rev(c_num_rev)\n",
    "c_num_rev"
   ]
  },
  {
   "cell_type": "code",
   "execution_count": 180,
   "id": "d208b13f",
   "metadata": {},
   "outputs": [
    {
     "data": {
      "text/plain": [
       "' Apache Airflow, AWS Glue, Apache Spark, Redshift, Amazon S3, Data Pipeline DAGs, Data Pipeline Creation, AWS Data Lakes, Data Transformation, Data Extraction, OLAP Cubes, Cloud Computing Fluency, ETL, Data Wrangling, Data Pipeline Maintenance, Data Warehouse Architecture, Data Lakes'"
      ]
     },
     "execution_count": 180,
     "metadata": {},
     "output_type": "execute_result"
    }
   ],
   "source": [
    "def get_skills(driver):\n",
    "    \n",
    "    button = driver.find_element(By.XPATH, '//*[@id=\"id-9TwdD4o3GrY0tIVF5LFEZ\"]/div/div/ul/li[3]/div/button')\n",
    "    driver.execute_script(\"arguments[0].click();\", button)\n",
    "    p='//*[@id=\"__next\"]/div/div/div[2]/div[2]/div/div[2]/div/div/ul/li'\n",
    "    sk = driver.find_elements(By.XPATH, p)\n",
    "    skills = \"\"\n",
    "    for i in sk:\n",
    "        i = i.text.strip().split(\":\")[-1]\n",
    "        skills = skills + i + \",\"\n",
    "    skills = skills[:-1]\n",
    "    return skills\n",
    "\n",
    "c_skills = get_skills(driver)\n",
    "c_skills"
   ]
  },
  {
   "cell_type": "code",
   "execution_count": 181,
   "id": "dbec1eba",
   "metadata": {},
   "outputs": [
    {
     "data": {
      "text/plain": [
       "'It is recommended that learners have intermediate Python, intermediate SQL, and command line skills.'"
      ]
     },
     "execution_count": 181,
     "metadata": {},
     "output_type": "execute_result"
    }
   ],
   "source": [
    "\n",
    "c_preq = soup.find(class_='degree-syllabus_preReqKnowledgeSection__xLeOg').find('p').text\n",
    "c_preq"
   ]
  },
  {
   "cell_type": "code",
   "execution_count": 182,
   "id": "5064b13f",
   "metadata": {},
   "outputs": [
    {
     "data": {
      "text/plain": [
       "''"
      ]
     },
     "execution_count": 182,
     "metadata": {},
     "output_type": "execute_result"
    }
   ],
   "source": [
    "\n",
    "p='//*[@id=\"id-76EUkjzhdVUf48f0N5EKDm\"]/div/div/ol/li/div[1]/div/div[1]/p'\n",
    "c_what_learn = driver.find_element(By.XPATH, p).text\n",
    "c_what_learn"
   ]
  },
  {
   "cell_type": "code",
   "execution_count": 249,
   "id": "5c9ecf1d",
   "metadata": {},
   "outputs": [],
   "source": [
    "import math\n",
    "\n",
    "def egp_to_usd(s):\n",
    "    if(s==\"\"):\n",
    "        return s\n",
    "    s = s.split(\" \")[1]\n",
    "    s = float(s)\n",
    "    d = 16.288220551378448\n",
    "    return math.ceil(s/d)\n",
    "\n",
    "def get_prices(driver):\n",
    "    p='//*[@id=\"id-31WFiISv1SWQXSTw7yDaKC\"]/div/div/ul'\n",
    "    c_price =  driver.find_element(By.XPATH, p)\n",
    "    soupx = BeautifulSoup(c_price.get_attribute(\"innerHTML\"), 'html.parser')\n",
    "    prices = soupx.find_all('li')\n",
    "    pall = []\n",
    "    for i in prices:\n",
    "        try:\n",
    "            pall.append(i.find('ins').text.strip())\n",
    "        except:\n",
    "            pass\n",
    "    while(len(pall)<2):\n",
    "        pall.append(\"\")\n",
    "    return \"$\"+str(egp_to_usd(pall[0])) , \"$\"+str(egp_to_usd(pall[1]))\n"
   ]
  },
  {
   "cell_type": "code",
   "execution_count": 250,
   "id": "6442d8d8",
   "metadata": {},
   "outputs": [
    {
     "name": "stdout",
     "output_type": "stream",
     "text": [
      "$399   S1356\n"
     ]
    }
   ],
   "source": [
    "\n",
    "c_p_month  ,c_p_4 = get_prices(driver)\n",
    "print(c_p_month , \" \" , c_p_4)"
   ]
  },
  {
   "cell_type": "code",
   "execution_count": 254,
   "id": "09460f44",
   "metadata": {},
   "outputs": [
    {
     "data": {
      "text/plain": [
       "'AWS Cloud Architect'"
      ]
     },
     "execution_count": 254,
     "metadata": {},
     "output_type": "execute_result"
    }
   ],
   "source": [
    "soup.find(class_='related-nanodegrees_list__yPaGf').find_all('li')[0].find('h3').text"
   ]
  },
  {
   "cell_type": "code",
   "execution_count": 263,
   "id": "b257e1e6",
   "metadata": {},
   "outputs": [
    {
     "data": {
      "text/plain": [
       "'AWS Cloud Architect,Data Streaming,'"
      ]
     },
     "execution_count": 263,
     "metadata": {},
     "output_type": "execute_result"
    }
   ],
   "source": [
    "\n",
    "rel = soup.find(class_='related-nanodegrees_list__yPaGf').find_all('li')\n",
    "c_related=\"\"\n",
    "for i in rel:\n",
    "    s = i.find('h3').text\n",
    "    c_related = c_related + s +\",\"\n",
    "c_related "
   ]
  },
  {
   "cell_type": "code",
   "execution_count": 2,
   "id": "750342c3",
   "metadata": {},
   "outputs": [],
   "source": [
    "import math\n",
    "\n",
    "def clean_rev(s):\n",
    "    s = s.replace('(' ,'')\n",
    "    s = s.replace(')' , '')\n",
    "    s = s+ \" viewers\"\n",
    "    return s\n",
    "\n",
    "def get_skills(driver):\n",
    "\n",
    "    c=\"degree-info-columns_container__vfEsw\"\n",
    "    button = driver.find_element(By.CLASS_NAME, c).find_element(By.TAG_NAME, \"button\")\n",
    "    driver.execute_script(\"arguments[0].click();\", button)\n",
    "    p='//*[@id=\"__next\"]/div/div/div[2]/div[2]/div/div[2]/div/div/ul/li'\n",
    "    sk = driver.find_elements(By.XPATH, p)\n",
    "    skills = \"\"\n",
    "    for i in sk:\n",
    "        i = i.text.strip().split(\":\")[-1]\n",
    "        skills = skills + i + \",\"\n",
    "    skills = skills[:-1]\n",
    "    return skills\n",
    "\n",
    "\n",
    "def egp_to_usd(s):\n",
    "    \n",
    "    d = 16.288220551378448\n",
    "    for i in range(len(s)):\n",
    "        s[i] = s[i].split(\" \")[1]\n",
    "        s[i] = float(s[i])\n",
    "        s[i] = math.ceil(s[i]/d)\n",
    "        s[i] = \"$\" + str(s[i])\n",
    "    return s\n",
    "\n",
    "def get_prices(driver , course):\n",
    "    c_price = driver.find_element(By.CLASS_NAME, \"side-by-side_priceCardsWrapper__hR3tT\")\n",
    "    time.sleep(2)\n",
    "    html_code = c_price.get_attribute(\"innerHTML\")\n",
    "    soupx = BeautifulSoup( html_code , 'html.parser')\n",
    "    prices = soupx.find_all('li')\n",
    "    l1 , l2 = [] , []\n",
    "    for i in prices:\n",
    "        try:\n",
    "            x = i.find(class_='_price-card_cardHeader__ok9yR').find('h2').text\n",
    "            y = i.find('ins').text.strip()\n",
    "            l1.append(x)\n",
    "            l2.append(y)\n",
    "        except:\n",
    "            pass\n",
    "    l2 = egp_to_usd(l2)\n",
    "    for i,j in zip(l1 , l2):\n",
    "        course[i] = j\n",
    "        \n",
    "    return course"
   ]
  },
  {
   "cell_type": "code",
   "execution_count": 23,
   "id": "c4a41057",
   "metadata": {},
   "outputs": [],
   "source": [
    "import time\n",
    "def get_course(url):\n",
    "    \n",
    "    course = {}\n",
    "\n",
    "    response = requests.get(url)\n",
    "    soup = BeautifulSoup(response.content, 'lxml')\n",
    "    options = Options()\n",
    "    options.add_argument(\"--headless=new\")\n",
    "    driver = webdriver.Chrome(options = options)\n",
    "    driver.get(url)\n",
    "    \n",
    "    time.sleep(3)\n",
    "\n",
    "    c_title = soup.find('h1').text\n",
    "    \n",
    "    c_url =url\n",
    "    try:\n",
    "        c_intro = soup.find(class_='_brand-refresh_summary__FocCv').text\n",
    "    except:\n",
    "        c_intro =driver.find_elements(By.TAG_NAME ,'p')[1].text\n",
    " \n",
    "    \n",
    "    #c_school\n",
    "    try:\n",
    "        c_type = soup.find(class_='_brand-refresh_textContentContainer__oG2QX').find('h2').text\n",
    "    except:\n",
    "        x = driver.find_element(By.CLASS_NAME , 'course-hero_headerContainer__aeqA_')\n",
    "        soupx = BeautifulSoup(x.get_attribute(\"innerHTML\"), 'html.parser')\n",
    "        c_type= soupx.find('h2').text\n",
    "\n",
    "    \n",
    "    \n",
    "    try:\n",
    "        c_courses = soup.find(class_='degree-syllabus_overview__qwUI5').find('h3').text\n",
    "    except: #only one course\n",
    "        c_courses = ''\n",
    "        \n",
    "    try:\n",
    "        x = driver.find_element(By.XPATH , '//*[@id=\"#content\"]/div[2]/ul/li[2]/p')\n",
    "        c_level = BeautifulSoup(x.get_attribute(\"innerHTML\"), 'html.parser')\n",
    "    except:\n",
    "        c_level =''\n",
    "\n",
    "    \n",
    "    #c_level\n",
    "    try:\n",
    "        c_duration = soup.find(class_='degree-syllabus_overview__qwUI5').find('b').text\n",
    "    except:\n",
    "        c_duration =soup.find('ul').find('li').text\n",
    "        \n",
    "        \n",
    "    try:\n",
    "        p='//*[@id=\"ndStudentReviewsSection\"]/div/header/div/b'\n",
    "        c_rate = driver.find_element(By.XPATH, p).text\n",
    "    except: # Some courses doesnt have ratings yet\n",
    "        c_rate=\"\"\n",
    "    \n",
    "    try:\n",
    "        p='//*[@id=\"ndStudentReviewsSection\"]/div/header/div/span'\n",
    "        c_num_rev = driver.find_element(By.XPATH, p).text\n",
    "        c_num_rev = clean_rev(c_num_rev)\n",
    "    except: #No reviews\n",
    "        c_num_rev=\"\"\n",
    "    \n",
    "    try:\n",
    "        c_skills = get_skills(driver)\n",
    "    except:#Noskills\n",
    "        c_skills =''\n",
    "\n",
    "\n",
    "    try:\n",
    "        c_preq = soup.find(class_='degree-syllabus_preReqKnowledgeSection__xLeOg').find('p').text\n",
    "    except:\n",
    "        try:\n",
    "            x = driver.find_element(By.CLASS_NAME , \"course-prerequisites_content__Gm661\")\n",
    "            soupx = BeautifulSoup(x.get_attribute(\"innerHTML\"), 'html.parser')\n",
    "            h2t = soupx.find('h2').text\n",
    "            c_preq = soupx.text.replace(h2t ,'')\n",
    "        except: #Some courses doesnt have\n",
    "            c_preq=''\n",
    "        \n",
    "        \n",
    "    try:\n",
    "        c_what_learn = soup.find(class_='degree-syllabus_overview__qwUI5').find('p').text\n",
    "    except:\n",
    "        try:\n",
    "            x = driver.find_element(By.CLASS_NAME , \"timeline_parts__cAy0q\")\n",
    "            soupx = BeautifulSoup(x.get_attribute(\"innerHTML\"), 'html.parser').find_all('li')\n",
    "            c_what_learn = \"\"\n",
    "            for k in soupx:\n",
    "                c_what_learn = c_what_learn + k.text\n",
    "        except:\n",
    "            c_what_learn = ''\n",
    "\n",
    "\n",
    "    \n",
    "    try:\n",
    "        get_prices(driver , course)\n",
    "    except: # free course\n",
    "        pass\n",
    "    \n",
    "\n",
    "    try:\n",
    "        rel = soup.find(class_='related-nanodegrees_list__yPaGf').find_all('li')\n",
    "        c_related=\"\"\n",
    "        for i in rel:\n",
    "            s = i.find('h3').text\n",
    "            c_related = c_related + s +\",\"\n",
    "    except:    #Some courses doesnt have related videos\n",
    "        c_related=\"\"\n",
    "    \n",
    "    \n",
    "    \n",
    "    \n",
    "    driver.quit()\n",
    "    \n",
    "    \n",
    "    course['Title'] =c_title\n",
    "    course['URL'] = c_url\n",
    "    course['Short Intro'] = c_intro\n",
    "    #course['School'] = c_school\n",
    "    course['Program Type'] = c_type\n",
    "    #course['Unique projects'] = c_uni\n",
    "    course['Courses'] = c_courses\n",
    "    course['Level'] = c_level\n",
    "    course['Duration'] = c_duration\n",
    "    course['Rating'] = c_rate\n",
    "    course['Number of Reviews'] = c_num_rev\n",
    "    course['Skills'] = c_skills\n",
    "    course['Prequisites'] = c_preq\n",
    "    course['What you learn']=c_what_learn\n",
    "    #course['Price per month'] = c_p_month\n",
    "    #course['Price for 4-Month access'] = c_p_4\n",
    "    course['Related Programs'] = c_related\n",
    "    return course"
   ]
  },
  {
   "cell_type": "code",
   "execution_count": 12,
   "id": "b8c00f6f",
   "metadata": {},
   "outputs": [],
   "source": [
    "all_courses = []\n",
    "errs = []"
   ]
  },
  {
   "cell_type": "code",
   "execution_count": 13,
   "id": "17dbdb4c",
   "metadata": {},
   "outputs": [
    {
     "name": "stdout",
     "output_type": "stream",
     "text": [
      "0\n",
      "1\n",
      "2\n",
      "3\n",
      "4\n",
      "5\n",
      "6\n",
      "7\n",
      "8\n",
      "9\n",
      "10\n",
      "11\n",
      "12\n",
      "13\n",
      "14\n",
      "15\n",
      "16\n",
      "17\n",
      "18\n",
      "19\n",
      "20\n",
      "21\n",
      "22\n",
      "23\n",
      "24\n",
      "25\n",
      "26\n",
      "27\n",
      "28\n",
      "29\n",
      "30\n",
      "31\n",
      "32\n",
      "33\n",
      "34\n",
      "35\n",
      "36\n",
      "37\n",
      "38\n",
      "39\n",
      "40\n",
      "41\n",
      "42\n",
      "43\n",
      "44\n",
      "45\n",
      "46\n",
      "47\n",
      "48\n",
      "49\n",
      "50\n",
      "51\n",
      "52\n",
      "53\n",
      "54\n",
      "55\n",
      "56\n",
      "57\n",
      "58\n",
      "59\n",
      "60\n",
      "61\n",
      "62\n",
      "63\n",
      "64\n",
      "65\n",
      "66\n",
      "67\n",
      "68\n",
      "69\n",
      "70\n",
      "71\n",
      "72\n",
      "73\n",
      "74\n",
      "75\n",
      "76\n",
      "77\n",
      "78\n",
      "79\n",
      "80\n",
      "81\n",
      "82\n",
      "83\n",
      "84\n",
      "85\n",
      "86\n",
      "87\n",
      "88\n",
      "89\n",
      "90\n",
      "91\n",
      "92\n",
      "93\n",
      "94\n",
      "95\n",
      "96\n",
      "97\n",
      "98\n",
      "99\n",
      "100\n",
      "101\n",
      "102\n",
      "103\n",
      "104\n",
      "105\n",
      "106\n",
      "107\n",
      "108\n",
      "109\n",
      "110\n",
      "111\n",
      "112\n",
      "113\n",
      "114\n",
      "115\n",
      "116\n",
      "117\n",
      "118\n",
      "119\n",
      "120\n",
      "121\n",
      "122\n",
      "123\n",
      "124\n",
      "125\n",
      "126\n",
      "127\n",
      "128\n",
      "129\n",
      "130\n",
      "131\n",
      "132\n",
      "133\n",
      "134\n",
      "135\n",
      "136\n",
      "137\n",
      "138\n",
      "139\n",
      "140\n",
      "141\n",
      "142\n",
      "143\n",
      "144\n",
      "145\n",
      "146\n",
      "147\n",
      "148\n",
      "149\n",
      "150\n",
      "151\n",
      "152\n",
      "153\n",
      "154\n",
      "155\n",
      "156\n",
      "157\n",
      "158\n",
      "159\n",
      "160\n",
      "161\n",
      "162\n",
      "163\n",
      "164\n",
      "165\n",
      "166\n",
      "167\n",
      "168\n",
      "169\n",
      "170\n",
      "171\n",
      "172\n",
      "173\n",
      "174\n",
      "175\n",
      "176\n",
      "177\n",
      "178\n",
      "179\n",
      "180\n",
      "181\n",
      "182\n",
      "183\n"
     ]
    }
   ],
   "source": [
    "for i , j in enumerate(extra):\n",
    "    print(i)\n",
    "    try:\n",
    "        course = get_course(j)\n",
    "        all_courses.append(course)\n",
    "    except:\n",
    "        errs.append(j)\n",
    "        \n",
    "df = pd.DataFrame(all_courses)\n",
    "df.to_csv(r'E:\\Upwork\\Nguey\\udemy\\submission\\udacityerrorsfixed.csv')\n"
   ]
  }
 ],
 "metadata": {
  "kernelspec": {
   "display_name": "Python 3 (ipykernel)",
   "language": "python",
   "name": "python3"
  },
  "language_info": {
   "codemirror_mode": {
    "name": "ipython",
    "version": 3
   },
   "file_extension": ".py",
   "mimetype": "text/x-python",
   "name": "python",
   "nbconvert_exporter": "python",
   "pygments_lexer": "ipython3",
   "version": "3.8.6"
  }
 },
 "nbformat": 4,
 "nbformat_minor": 5
}
