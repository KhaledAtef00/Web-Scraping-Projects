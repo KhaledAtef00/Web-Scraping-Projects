{
 "cells": [
  {
   "cell_type": "markdown",
   "id": "32ef2971",
   "metadata": {},
   "source": [
    "**Khaled Atef<br>\n",
    "khaledatef7070@gmail.com<br>\n",
    "https://www.linkedin.com/in/khaledatef1/**"
   ]
  },
  {
   "cell_type": "code",
   "execution_count": 1,
   "id": "7d7d8ad8",
   "metadata": {},
   "outputs": [],
   "source": [
    "from bs4 import BeautifulSoup\n",
    "import requests\n",
    "import unicodedata\n",
    "import pandas as pd\n",
    "from selenium import webdriver\n",
    "from selenium.webdriver.common.by import By\n",
    "from selenium.webdriver.support.ui import WebDriverWait\n",
    "from selenium.webdriver.support import expected_conditions as EC\n",
    "from selenium.webdriver.chrome.options import Options"
   ]
  },
  {
   "cell_type": "markdown",
   "id": "47733728",
   "metadata": {},
   "source": [
    "# Trying to Scrap One Product only"
   ]
  },
  {
   "cell_type": "code",
   "execution_count": 2,
   "id": "c85834d6",
   "metadata": {},
   "outputs": [],
   "source": [
    "url = 'https://www.edeka24.de/Lebensmittel/Kaffee-Tee/EDEKA-Bio-Fettarme-H-Milch-1-5-1L.html'\n",
    "options = Options()\n",
    "options.add_argument(\"--headless=new\")\n",
    "driver = webdriver.Chrome(options = options)\n",
    "driver.get(url)"
   ]
  },
  {
   "cell_type": "code",
   "execution_count": 3,
   "id": "604e56fa",
   "metadata": {},
   "outputs": [
    {
     "data": {
      "text/plain": [
       "'EDEKA Bio Fettarme H-Milch 1,5% 1L'"
      ]
     },
     "execution_count": 3,
     "metadata": {},
     "output_type": "execute_result"
    }
   ],
   "source": [
    "p = '//*[@id=\"wrapper\"]/div[5]/div/div[2]/div[1]/div[2]/h1'\n",
    "p_name = driver.find_element(By.XPATH, p).text\n",
    "p_name"
   ]
  },
  {
   "cell_type": "code",
   "execution_count": 4,
   "id": "050c0995",
   "metadata": {},
   "outputs": [
    {
     "data": {
      "text/plain": [
       "'EDEKA'"
      ]
     },
     "execution_count": 4,
     "metadata": {},
     "output_type": "execute_result"
    }
   ],
   "source": [
    "p_brand = p_name.split(' ')[0]\n",
    "p_brand"
   ]
  },
  {
   "cell_type": "code",
   "execution_count": 5,
   "id": "60ca3444",
   "metadata": {},
   "outputs": [
    {
     "data": {
      "text/plain": [
       "'Bio Fettarme H-Milch, 1,5% Fett, ultrahocherhitzt, homogenisiertultrahocherhitzthomogenisiert1,5% Fettaus kontrolliert ökologischer LandwirtschaftHinweis zur Aufbewahrung: Nach dem Öffnen kühl lagern und alsbaldig aufbrauchen.Verantwortliches Lebensmittelunternehmen:EDEKA ZENTRALE Stiftung & Co. KG, D-22291 HamburgÖko-Kontrollstellencode: AT-BIO-902'"
      ]
     },
     "execution_count": 5,
     "metadata": {},
     "output_type": "execute_result"
    }
   ],
   "source": [
    "p= '//*[@id=\"description\"]'\n",
    "p_desc = driver.find_element(By.XPATH ,p).text.strip().replace('\\n', '')\n",
    "\n",
    "p_desc"
   ]
  },
  {
   "cell_type": "code",
   "execution_count": 6,
   "id": "869d83d3",
   "metadata": {},
   "outputs": [
    {
     "data": {
      "text/plain": [
       "'https://www.edeka24.de/out/pictures/generated/product/1/540_540_90/bio_edeka_hmilch_fettarm_15_1l.jpg'"
      ]
     },
     "execution_count": 6,
     "metadata": {},
     "output_type": "execute_result"
    }
   ],
   "source": [
    "p='//*[@id=\"wrapper\"]/div[5]/div/div[2]/div[1]/div[1]/div/img'\n",
    "p_img =  driver.find_element(By.XPATH ,p).get_attribute('src')\n",
    "p_img\n"
   ]
  },
  {
   "cell_type": "code",
   "execution_count": 7,
   "id": "6bf3e0c9",
   "metadata": {},
   "outputs": [
    {
     "data": {
      "text/plain": [
       "'Kaffee & Tee'"
      ]
     },
     "execution_count": 7,
     "metadata": {},
     "output_type": "execute_result"
    }
   ],
   "source": [
    "p = '//*[@id=\"wrapper\"]/div[4]/div/ul/li[3]/a'\n",
    "p_categeory = driver.find_element(By.XPATH ,p).text\n",
    "p_categeory"
   ]
  },
  {
   "cell_type": "code",
   "execution_count": 8,
   "id": "8a67c11d",
   "metadata": {},
   "outputs": [
    {
     "data": {
      "text/plain": [
       "'1,29 €'"
      ]
     },
     "execution_count": 8,
     "metadata": {},
     "output_type": "execute_result"
    }
   ],
   "source": [
    "p = '//*[@id=\"jq_widgetContainer_articleDetailsPrice\"]/div[1]/div'\n",
    "p_price = driver.find_element(By.XPATH ,p).text\n",
    "p_price"
   ]
  },
  {
   "cell_type": "code",
   "execution_count": 9,
   "id": "d10d8ca5",
   "metadata": {},
   "outputs": [
    {
     "name": "stdout",
     "output_type": "stream",
     "text": [
      "5.00  -  []\n"
     ]
    }
   ],
   "source": [
    "options = Options()\n",
    "options.add_argument(\"--headless=new\")\n",
    "\n",
    "def get_rate_reviews(url):\n",
    "\n",
    "\n",
    "    driver = webdriver.Chrome(options = options)\n",
    "    driver.get(url)\n",
    "    wait = WebDriverWait(driver, 5)\n",
    "\n",
    "    p ='//*[@id=\"tsItemRatings\"]/div/div[2]'\n",
    "    element = wait.until(EC.presence_of_element_located((By.XPATH, p)))\n",
    "    dynamic_content = driver.find_element(By.XPATH, p)\n",
    "    prod_rate = dynamic_content.text.split('/')[0]\n",
    "    \n",
    "    wait = WebDriverWait(driver, 5)\n",
    "    p ='//*[@id=\"trustedshops-productreviews-sticker-wrapper\"]/div[1]/div[2]/ul'\n",
    "    ul = wait.until(EC.presence_of_element_located((By.XPATH, p)))\n",
    "    inner_html = ul.get_attribute('innerHTML')\n",
    "    soup = BeautifulSoup(inner_html, 'html.parser')\n",
    "    driver.quit()\n",
    "    \n",
    "    li = soup.find_all(class_='ts-review-text')\n",
    "    li = [item.text for item in li]\n",
    "    li = list(filter(lambda x: x.strip(), li))\n",
    "\n",
    "    return prod_rate ,li\n",
    "\n",
    "\n",
    "prod_rating , prod_reviews = get_rate_reviews(url)\n",
    "print(prod_rating ,\" - \" ,prod_reviews)"
   ]
  },
  {
   "cell_type": "markdown",
   "id": "47881300",
   "metadata": {},
   "source": [
    "# Getting All Products Links On Edeka"
   ]
  },
  {
   "cell_type": "code",
   "execution_count": 10,
   "id": "bb6c63eb",
   "metadata": {},
   "outputs": [],
   "source": [
    "all_sub_groceries = ['https://www.edeka24.de/Lebensmittel/Kaffee-Tee/' , 'https://www.edeka24.de/Lebensmittel/Getraenke/' ,\n",
    "                     'https://www.edeka24.de/Lebensmittel/Backen-Desserts/','https://www.edeka24.de/Lebensmittel/Fruehstueck-Snacks/',\n",
    "                     'https://www.edeka24.de/Lebensmittel/Wuerzmittel-Bruehen/','https://www.edeka24.de/Lebensmittel/Sossen/',\n",
    "                     'https://www.edeka24.de/Lebensmittel/Beilagen/','https://www.edeka24.de/Lebensmittel/Konserven/',\n",
    "                     'https://www.edeka24.de/Lebensmittel/Suess-Salzig/','https://www.edeka24.de/Lebensmittel/Fertiggerichte/',\n",
    "                     'https://www.edeka24.de/Lebensmittel/Internationales/'\n",
    "\n",
    "                    \n",
    "                    ]\n",
    "all_links = []\n"
   ]
  },
  {
   "cell_type": "code",
   "execution_count": null,
   "id": "7ff79c57",
   "metadata": {},
   "outputs": [],
   "source": [
    "for url in all_sub_groceries:\n",
    "    response = requests.get(url)\n",
    "    soup = BeautifulSoup(response.content, 'lxml')\n",
    "    cnt = int(soup.find(class_='category-amount-articles').span.text)\n",
    "    cnt = int ( cnt / 30 )\n",
    "    cnt+=5\n",
    "    while(cnt>0):\n",
    "        extra = '?pgNr='+str(cnt)\n",
    "        temp_url = url + extra\n",
    "        print(temp_url)\n",
    "        response = requests.get(temp_url)\n",
    "        soup = BeautifulSoup(response.content, 'lxml')\n",
    "        prods = soup.find_all(class_='product-details')\n",
    "        [all_links.append(item.find('a')['href'].split('?')[0]) for item in prods]\n",
    "        cnt-=1"
   ]
  },
  {
   "cell_type": "code",
   "execution_count": null,
   "id": "f4efb789",
   "metadata": {},
   "outputs": [],
   "source": [
    "len(all_links)"
   ]
  },
  {
   "cell_type": "code",
   "execution_count": null,
   "id": "e109415f",
   "metadata": {},
   "outputs": [],
   "source": [
    "#Saving Links \n",
    "with open('E:\\Omdena\\Task1\\edeka_scrap\\Links.txt', 'w') as f:\n",
    "    for line in all_links:\n",
    "        f.write(f\"{line}\\n\")"
   ]
  },
  {
   "cell_type": "markdown",
   "id": "ee13416b",
   "metadata": {},
   "source": [
    "# Scraping All Grocery Product On Edeka"
   ]
  },
  {
   "cell_type": "code",
   "execution_count": 11,
   "id": "d3c7fb3c",
   "metadata": {},
   "outputs": [],
   "source": [
    "# Helper Functions\n",
    "\n",
    "def get_rate_reviews(driver , url):\n",
    "\n",
    "    wait = WebDriverWait(driver, 5)\n",
    "\n",
    "    p ='//*[@id=\"tsItemRatings\"]/div/div[2]'\n",
    "    element = wait.until(EC.presence_of_element_located((By.XPATH, p)))\n",
    "    dynamic_content = driver.find_element(By.XPATH, p)\n",
    "    prod_rate = dynamic_content.text.split('/')[0]\n",
    "    \n",
    "    wait = WebDriverWait(driver, 5)\n",
    "    p ='//*[@id=\"trustedshops-productreviews-sticker-wrapper\"]/div[1]/div[2]/ul'\n",
    "    ul = wait.until(EC.presence_of_element_located((By.XPATH, p)))\n",
    "    inner_html = ul.get_attribute('innerHTML')\n",
    "    soup = BeautifulSoup(inner_html, 'html.parser')\n",
    "    driver.quit()\n",
    "    \n",
    "    li = soup.find_all(class_='ts-review-text')\n",
    "    li = [item.text for item in li]\n",
    "    li = list(filter(lambda x: x.strip(), li))\n",
    "\n",
    "    return prod_rate ,li\n",
    "\n",
    "\n",
    "\n",
    "\n",
    "def scrap_product(url):\n",
    "    options = Options()\n",
    "    options.add_argument(\"--headless=new\")\n",
    "    driver = webdriver.Chrome(options = options)\n",
    "    driver.get(url)\n",
    "    p_name = driver.find_element(By.XPATH, '//*[@id=\"wrapper\"]/div[5]/div/div[2]/div[1]/div[2]/h1').text\n",
    "    p_brand = p_name.split(' ')[0]\n",
    "    p_desc = driver.find_element(By.XPATH ,'//*[@id=\"description\"]').text.strip().replace('\\n', '')\n",
    "    p_img =  driver.find_element(By.XPATH ,'//*[@id=\"wrapper\"]/div[5]/div/div[2]/div[1]/div[1]/div/img').get_attribute('src')\n",
    "    p_categeory = driver.find_element(By.XPATH ,'//*[@id=\"wrapper\"]/div[4]/div/ul/li[3]/a').text\n",
    "    p_price = driver.find_element(By.XPATH ,'//*[@id=\"jq_widgetContainer_articleDetailsPrice\"]/div[1]/div').text\n",
    "\n",
    "    try:\n",
    "        prod_rate,prod_reviews = get_rate_reviews(driver ,url)\n",
    "    except:\n",
    "        prod_rate,prod_reviews = None , None\n",
    "    driver.quit()\n",
    "    product={}\n",
    "    product['PROD_NAME'] = p_name\n",
    "    product['PROD_BRAND'] = p_brand\n",
    "    product['PROD_RATINGS'] = prod_rate\n",
    "    product['PROD_REVIEWS'] = prod_reviews\n",
    "    product['PROD_LINK'] = url\n",
    "    product['PROD_IMAGE_URL'] = p_img\n",
    "    product['PROD_CATEGORY'] = p_categeory\n",
    "    product['PROD_PRICE'] = p_price\n",
    "    product['PROD_DESCRIPTION'] = p_desc\n",
    "    return product\n",
    "\n"
   ]
  },
  {
   "cell_type": "code",
   "execution_count": 12,
   "id": "bd54543d",
   "metadata": {},
   "outputs": [
    {
     "data": {
      "text/plain": [
       "{'PROD_NAME': 'EDEKA Bio Fettarme H-Milch 1,5% 1L',\n",
       " 'PROD_BRAND': 'EDEKA',\n",
       " 'PROD_RATINGS': '5.00',\n",
       " 'PROD_REVIEWS': [],\n",
       " 'PROD_LINK': 'https://www.edeka24.de/Lebensmittel/Kaffee-Tee/EDEKA-Bio-Fettarme-H-Milch-1-5-1L.html',\n",
       " 'PROD_IMAGE_URL': 'https://www.edeka24.de/out/pictures/generated/product/1/540_540_90/bio_edeka_hmilch_fettarm_15_1l.jpg',\n",
       " 'PROD_CATEGORY': 'Kaffee & Tee',\n",
       " 'PROD_PRICE': '1,29 €',\n",
       " 'PROD_DESCRIPTION': 'Bio Fettarme H-Milch, 1,5% Fett, ultrahocherhitzt, homogenisiertultrahocherhitzthomogenisiert1,5% Fettaus kontrolliert ökologischer LandwirtschaftHinweis zur Aufbewahrung: Nach dem Öffnen kühl lagern und alsbaldig aufbrauchen.Verantwortliches Lebensmittelunternehmen:EDEKA ZENTRALE Stiftung & Co. KG, D-22291 HamburgÖko-Kontrollstellencode: AT-BIO-902'}"
      ]
     },
     "execution_count": 12,
     "metadata": {},
     "output_type": "execute_result"
    }
   ],
   "source": [
    "# Test \n",
    "scrap_product('https://www.edeka24.de/Lebensmittel/Kaffee-Tee/EDEKA-Bio-Fettarme-H-Milch-1-5-1L.html')"
   ]
  },
  {
   "cell_type": "code",
   "execution_count": 32,
   "id": "4269a548",
   "metadata": {},
   "outputs": [
    {
     "data": {
      "text/plain": [
       "'https://www.edeka24.de/Lebensmittel/Kaffee-Tee/Messmer-Schwarztee-Assam-und-Ceylon-Nr-10-lose-400G.html'"
      ]
     },
     "execution_count": 32,
     "metadata": {},
     "output_type": "execute_result"
    }
   ],
   "source": [
    "f = open('E:\\Omdena\\Task1\\edeka_scrap\\Links.txt', 'r')\n",
    "content = f.read()\n",
    "content = content.replace('\\n','')\n",
    "content = content.split('https')\n",
    "content = content[1:]\n",
    "content = ['https'+link for link in content]\n",
    "content[0]"
   ]
  },
  {
   "cell_type": "code",
   "execution_count": 20,
   "id": "42164f1b",
   "metadata": {},
   "outputs": [],
   "source": [
    "import time\n",
    "grocery_products_edeka = []\n",
    "cnt =0 \n",
    "for url in content:\n",
    "    try:\n",
    "        product = scrap_product(url)\n",
    "        grocery_products_edeka.append(product)\n",
    "    except:\n",
    "        print(url)\n",
    "        \n",
    "    if(cnt%10 == 0):\n",
    "        time.sleep(5)\n",
    "        print(cnt)\n",
    "    cnt+=1"
   ]
  },
  {
   "cell_type": "code",
   "execution_count": 21,
   "id": "de678ff6",
   "metadata": {},
   "outputs": [],
   "source": [
    "df = pd.DataFrame(grocery_products_edeka)"
   ]
  },
  {
   "cell_type": "code",
   "execution_count": 23,
   "id": "c1dc5f1e",
   "metadata": {},
   "outputs": [
    {
     "data": {
      "text/plain": [
       "array([ nan, 5.  , 4.85, 2.  , 4.  , 3.5 , 4.86, 3.75, 4.6 , 4.8 , 3.  ,\n",
       "       3.67, 4.9 , 1.  , 4.83, 4.95, 4.98, 4.74, 4.64, 4.92, 2.5 , 4.93,\n",
       "       4.96, 4.5 , 4.67, 4.7 , 4.75, 4.17, 3.33, 4.2 , 4.91, 4.22, 4.89,\n",
       "       4.42, 1.75, 4.57, 4.77, 4.45, 4.25, 4.88, 4.71, 4.73, 4.44, 4.94,\n",
       "       4.82, 4.33, 3.2 , 3.4 , 3.6 , 4.78, 4.3 , 4.55, 3.8 , 4.84, 4.4 ,\n",
       "       3.88, 4.81, 4.07, 3.71, 4.62, 4.14, 3.79, 3.82])"
      ]
     },
     "execution_count": 23,
     "metadata": {},
     "output_type": "execute_result"
    }
   ],
   "source": [
    "df['PROD_RATINGS'].unique()"
   ]
  },
  {
   "cell_type": "code",
   "execution_count": 24,
   "id": "80a1636e",
   "metadata": {},
   "outputs": [
    {
     "data": {
      "text/plain": [
       "array(['Coffee, tea', 'beverages', 'Baking & Desserts',\n",
       "       'Breakfast & Snacks', 'sauces', 'Side dishes', 'canned goods',\n",
       "       'Sweet & Salty', 'ready meals', 'International'], dtype=object)"
      ]
     },
     "execution_count": 24,
     "metadata": {},
     "output_type": "execute_result"
    }
   ],
   "source": [
    "df['PROD_CATEGORY'].unique()"
   ]
  },
  {
   "cell_type": "code",
   "execution_count": 28,
   "id": "0537853b",
   "metadata": {},
   "outputs": [],
   "source": [
    "from googletrans import Translator, constants\n",
    "from pprint import pprint\n",
    "def translate(key):\n",
    "    translator = Translator()\n",
    "    if(key is None):\n",
    "        return None\n",
    "    \n",
    "    if isinstance(key, list):\n",
    "        return [translator.translate(i).text for i in key]\n",
    "    else :\n",
    "        translation = translator.translate(key)\n",
    "        return translation.text\n"
   ]
  },
  {
   "cell_type": "code",
   "execution_count": null,
   "id": "74660281",
   "metadata": {},
   "outputs": [],
   "source": [
    "# Translating All German Text Into English\n",
    "df['PROD_NAME'] = df['PROD_NAME'].apply(lambda x: translate(x))\n",
    "df['PROD_REVIEWS'] = df['PROD_REVIEWS'].apply(lambda x: translate(x))\n",
    "df['PROD_CATEGORY'] = df['PROD_CATEGORY'].apply(lambda x: translate(x))\n",
    "df['PROD_DESCRIPTION'] = df['PROD_DESCRIPTION'].apply(lambda x: translate(x))\n",
    "\n",
    "df['STORE_NAME'] = 'EDEKA'\n",
    "df['STORE_ID'] = None\n",
    "df['PROD_POPULARITY'] = None\n",
    "df['TEAM_MEMBER'] = 'Khaled Atef'"
   ]
  },
  {
   "cell_type": "code",
   "execution_count": null,
   "id": "93da8a6c",
   "metadata": {},
   "outputs": [],
   "source": [
    "df.to_csv(\"edeka_groceries_data_final.csv\")"
   ]
  }
 ],
 "metadata": {
  "kernelspec": {
   "display_name": "Python 3 (ipykernel)",
   "language": "python",
   "name": "python3"
  },
  "language_info": {
   "codemirror_mode": {
    "name": "ipython",
    "version": 3
   },
   "file_extension": ".py",
   "mimetype": "text/x-python",
   "name": "python",
   "nbconvert_exporter": "python",
   "pygments_lexer": "ipython3",
   "version": "3.8.6"
  }
 },
 "nbformat": 4,
 "nbformat_minor": 5
}
