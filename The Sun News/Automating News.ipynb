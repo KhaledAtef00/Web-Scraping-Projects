{
 "cells": [
  {
   "cell_type": "code",
   "execution_count": 52,
   "id": "e9412372",
   "metadata": {},
   "outputs": [],
   "source": [
    "from selenium import webdriver\n",
    "from selenium.webdriver.chrome.service import Service\n",
    "from selenium.webdriver.chrome.options import Options\n",
    "\n",
    "import pandas as pd"
   ]
  },
  {
   "cell_type": "code",
   "execution_count": 55,
   "id": "928faf17",
   "metadata": {},
   "outputs": [
    {
     "name": "stderr",
     "output_type": "stream",
     "text": [
      "C:\\Users\\dell\\AppData\\Local\\Temp\\ipykernel_17892\\3812642357.py:3: DeprecationWarning: headless property is deprecated, instead use add_argument('--headless') or add_argument('--headless=new')\n",
      "  options.headless = True\n"
     ]
    }
   ],
   "source": [
    "#Headless mode\n",
    "options = Options()\n",
    "options.headless = True\n",
    "service = Service(exectuable_path = path)\n"
   ]
  },
  {
   "cell_type": "code",
   "execution_count": 54,
   "id": "327b05a5",
   "metadata": {},
   "outputs": [],
   "source": [
    "website = 'https://www.thesun.co.uk/'\n",
    "path =r'C:\\Users\\dell\\chromedriver'\n",
    "\n",
    "\n",
    "driver = webdriver.Chrome(service = service ,options = options)\n",
    "driver.get(website)"
   ]
  },
  {
   "cell_type": "code",
   "execution_count": 45,
   "id": "fa45247a",
   "metadata": {},
   "outputs": [],
   "source": [
    "# XPATH : //div[@class=\"teaser__copy-container\"]\n",
    "# Contain All News Boxes in The Sun Website\n",
    "containers = driver.find_elements(by='xpath' ,value='//div[@class=\"teaser__copy-container\"]')\n",
    "\n",
    "\n",
    "news_info = []\n",
    "\n",
    "#For Every New Box\n",
    "for c in containers:\n",
    "    \n",
    "    #you can write . for shortcut \n",
    "    title = c.find_element(by='xpath' , value = './a/h3').text\n",
    "    \n",
    "    subtitle =  c.find_element(by='xpath' , value = './a/p').text\n",
    "    \n",
    "    link = c.find_element(by='xpath' , value = './a').get_attribute(\"href\")\n",
    "    \n",
    "    info = {\"Title\":title , \"Subtitle\":subtitle , \"Link\":link}\n",
    "    news_info.append(info)\n"
   ]
  },
  {
   "cell_type": "code",
   "execution_count": 46,
   "id": "eac8b396",
   "metadata": {},
   "outputs": [
    {
     "data": {
      "text/plain": [
       "[{'Title': 'ARGY BARGEY',\n",
       "  'Subtitle': \"Inside first migrants barge critics call 'cruel' – but it has luxury facilities\",\n",
       "  'Link': 'https://www.thesun.co.uk/news/21957789/inside-barge-housing-migrants-with-luxury-facilities/'},\n",
       " {'Title': 'PROUD SHOW',\n",
       "  'Subtitle': \"Full list of Royals set to appear on palace balcony for King Charles' coronation\",\n",
       "  'Link': 'https://www.thesun.co.uk/fabulous/21958426/which-royal-family-members-balcony-coronation/'},\n",
       " {'Title': 'SEX OFFENDERS SCANDAL',\n",
       "  'Subtitle': '300 criminals convicted of sex acts on KIDS dodging jail every year',\n",
       "  'Link': 'https://www.thesun.co.uk/news/politics/21959103/criminals-sex-offenders-dodging-jail-every-year/'},\n",
       " {'Title': 'DIRRTY SECRET!',\n",
       "  'Subtitle': 'Christina Aguilera makes X-rated confession about sex with her boyfriend',\n",
       "  'Link': 'https://www.thesun.co.uk/tvandshowbiz/21956153/christina-aguilera-sex-plane-boyfriend-matthew-rutler/'},\n",
       " {'Title': 'POWER MOVE',\n",
       "  'Subtitle': 'Popular bathroom feature could be banned in plans to save water',\n",
       "  'Link': 'https://www.thesun.co.uk/news/21957473/power-shower-bathroom-feature-banned-plans-save-water/'},\n",
       " {'Title': \"'ABHORRENT & CRUEL'\",\n",
       "  'Subtitle': \"Eight women guilty over one of Britain's worst-ever child sex rings\",\n",
       "  'Link': 'https://www.thesun.co.uk/news/21958402/walsall-wolverhampton-child-sex-abuse-ring-women/'},\n",
       " {'Title': 'THE SUN SAYS',\n",
       "  'Subtitle': 'Only middle-class lefties could whinge migrant barge is not luxurious enough',\n",
       "  'Link': 'https://www.thesun.co.uk/news/21958190/sun-says-hand-wringing-left-slam-asylum-migrant-barge/'},\n",
       " {'Title': 'MASSIVE SAVINGS',\n",
       "  'Subtitle': 'Simba deals: Get up to 55% off',\n",
       "  'Link': 'https://www.thesun.co.uk/sun-selects/16526814/simba-deals-discount-codes/'},\n",
       " {'Title': 'TOP TIPS',\n",
       "  'Subtitle': 'Get the best tips, odds, and betting offers ahead of the Masters at Augusta',\n",
       "  'Link': 'https://www.thesun.co.uk/betting/21887304/the-masters-betting-tips-odds-betting-offers/'},\n",
       " {'Title': 'DEAR DEIDRE',\n",
       "  'Subtitle': \"I'm thinking of inviting another man into our bed to spice up my wife's libido\",\n",
       "  'Link': 'https://www.thesun.co.uk/dear-deidre/21948363/inviting-another-man-bed-spice-wife-sex-libido/'}]"
      ]
     },
     "execution_count": 46,
     "metadata": {},
     "output_type": "execute_result"
    }
   ],
   "source": [
    "news_info[:10]"
   ]
  },
  {
   "cell_type": "code",
   "execution_count": 50,
   "id": "fdcdad86",
   "metadata": {},
   "outputs": [],
   "source": [
    "df = pd.DataFrame(news_info)\n",
    "df.to_csv(\"Headline.csv\")\n",
    "driver.quit()"
   ]
  },
  {
   "cell_type": "code",
   "execution_count": 56,
   "id": "67bd0f44",
   "metadata": {},
   "outputs": [
    {
     "data": {
      "text/html": [
       "<div>\n",
       "<style scoped>\n",
       "    .dataframe tbody tr th:only-of-type {\n",
       "        vertical-align: middle;\n",
       "    }\n",
       "\n",
       "    .dataframe tbody tr th {\n",
       "        vertical-align: top;\n",
       "    }\n",
       "\n",
       "    .dataframe thead th {\n",
       "        text-align: right;\n",
       "    }\n",
       "</style>\n",
       "<table border=\"1\" class=\"dataframe\">\n",
       "  <thead>\n",
       "    <tr style=\"text-align: right;\">\n",
       "      <th></th>\n",
       "      <th>Title</th>\n",
       "      <th>Subtitle</th>\n",
       "      <th>Link</th>\n",
       "    </tr>\n",
       "  </thead>\n",
       "  <tbody>\n",
       "    <tr>\n",
       "      <th>0</th>\n",
       "      <td>ARGY BARGEY</td>\n",
       "      <td>Inside first migrants barge critics call 'crue...</td>\n",
       "      <td>https://www.thesun.co.uk/news/21957789/inside-...</td>\n",
       "    </tr>\n",
       "    <tr>\n",
       "      <th>1</th>\n",
       "      <td>PROUD SHOW</td>\n",
       "      <td>Full list of Royals set to appear on palace ba...</td>\n",
       "      <td>https://www.thesun.co.uk/fabulous/21958426/whi...</td>\n",
       "    </tr>\n",
       "    <tr>\n",
       "      <th>2</th>\n",
       "      <td>SEX OFFENDERS SCANDAL</td>\n",
       "      <td>300 criminals convicted of sex acts on KIDS do...</td>\n",
       "      <td>https://www.thesun.co.uk/news/politics/2195910...</td>\n",
       "    </tr>\n",
       "    <tr>\n",
       "      <th>3</th>\n",
       "      <td>DIRRTY SECRET!</td>\n",
       "      <td>Christina Aguilera makes X-rated confession ab...</td>\n",
       "      <td>https://www.thesun.co.uk/tvandshowbiz/21956153...</td>\n",
       "    </tr>\n",
       "    <tr>\n",
       "      <th>4</th>\n",
       "      <td>POWER MOVE</td>\n",
       "      <td>Popular bathroom feature could be banned in pl...</td>\n",
       "      <td>https://www.thesun.co.uk/news/21957473/power-s...</td>\n",
       "    </tr>\n",
       "    <tr>\n",
       "      <th>...</th>\n",
       "      <td>...</td>\n",
       "      <td>...</td>\n",
       "      <td>...</td>\n",
       "    </tr>\n",
       "    <tr>\n",
       "      <th>90</th>\n",
       "      <td>WORK HARD, PLAY HARD</td>\n",
       "      <td>I make £50k-a-year playing FIFA without leavin...</td>\n",
       "      <td>https://www.thesun.co.uk/tech/21949462/profess...</td>\n",
       "    </tr>\n",
       "    <tr>\n",
       "      <th>91</th>\n",
       "      <td>TEXT TERROR</td>\n",
       "      <td>Google issues critical safety alert – search i...</td>\n",
       "      <td>https://www.thesun.co.uk/tech/21956031/google-...</td>\n",
       "    </tr>\n",
       "    <tr>\n",
       "      <th>92</th>\n",
       "      <td>JAWS OF DEATH</td>\n",
       "      <td>World’s deadliest sharks and their ‘hunting gr...</td>\n",
       "      <td>https://www.thesun.co.uk/tech/21957450/world-d...</td>\n",
       "    </tr>\n",
       "    <tr>\n",
       "      <th>93</th>\n",
       "      <td>MOVE THE GOAL</td>\n",
       "      <td>I quit my football career to become a girl gam...</td>\n",
       "      <td>https://www.thesun.co.uk/tech/21949686/footbal...</td>\n",
       "    </tr>\n",
       "    <tr>\n",
       "      <th>94</th>\n",
       "      <td>GAME ON</td>\n",
       "      <td>Sky TV customers can receive another free upgr...</td>\n",
       "      <td>https://www.thesun.co.uk/tech/21946834/sky-tv-...</td>\n",
       "    </tr>\n",
       "  </tbody>\n",
       "</table>\n",
       "<p>95 rows × 3 columns</p>\n",
       "</div>"
      ],
      "text/plain": [
       "                    Title                                           Subtitle  \\\n",
       "0             ARGY BARGEY  Inside first migrants barge critics call 'crue...   \n",
       "1              PROUD SHOW  Full list of Royals set to appear on palace ba...   \n",
       "2   SEX OFFENDERS SCANDAL  300 criminals convicted of sex acts on KIDS do...   \n",
       "3          DIRRTY SECRET!  Christina Aguilera makes X-rated confession ab...   \n",
       "4              POWER MOVE  Popular bathroom feature could be banned in pl...   \n",
       "..                    ...                                                ...   \n",
       "90   WORK HARD, PLAY HARD  I make £50k-a-year playing FIFA without leavin...   \n",
       "91            TEXT TERROR  Google issues critical safety alert – search i...   \n",
       "92          JAWS OF DEATH  World’s deadliest sharks and their ‘hunting gr...   \n",
       "93          MOVE THE GOAL  I quit my football career to become a girl gam...   \n",
       "94                GAME ON  Sky TV customers can receive another free upgr...   \n",
       "\n",
       "                                                 Link  \n",
       "0   https://www.thesun.co.uk/news/21957789/inside-...  \n",
       "1   https://www.thesun.co.uk/fabulous/21958426/whi...  \n",
       "2   https://www.thesun.co.uk/news/politics/2195910...  \n",
       "3   https://www.thesun.co.uk/tvandshowbiz/21956153...  \n",
       "4   https://www.thesun.co.uk/news/21957473/power-s...  \n",
       "..                                                ...  \n",
       "90  https://www.thesun.co.uk/tech/21949462/profess...  \n",
       "91  https://www.thesun.co.uk/tech/21956031/google-...  \n",
       "92  https://www.thesun.co.uk/tech/21957450/world-d...  \n",
       "93  https://www.thesun.co.uk/tech/21949686/footbal...  \n",
       "94  https://www.thesun.co.uk/tech/21946834/sky-tv-...  \n",
       "\n",
       "[95 rows x 3 columns]"
      ]
     },
     "execution_count": 56,
     "metadata": {},
     "output_type": "execute_result"
    }
   ],
   "source": [
    "df"
   ]
  },
  {
   "cell_type": "code",
   "execution_count": null,
   "id": "38feca24",
   "metadata": {},
   "outputs": [],
   "source": []
  }
 ],
 "metadata": {
  "kernelspec": {
   "display_name": "Python 3 (ipykernel)",
   "language": "python",
   "name": "python3"
  },
  "language_info": {
   "codemirror_mode": {
    "name": "ipython",
    "version": 3
   },
   "file_extension": ".py",
   "mimetype": "text/x-python",
   "name": "python",
   "nbconvert_exporter": "python",
   "pygments_lexer": "ipython3",
   "version": "3.8.6"
  }
 },
 "nbformat": 4,
 "nbformat_minor": 5
}
